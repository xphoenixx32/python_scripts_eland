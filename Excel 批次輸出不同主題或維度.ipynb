{
 "cells": [
  {
   "cell_type": "markdown",
   "metadata": {
    "tags": []
   },
   "source": [
    "### 將Excel檔按不同主題/維度去分割，並自動另存輸出\n",
    "\n",
    "following content first written in 2022.Mar.<br>\n",
    "\n",
    " - 說明:\n",
    " 1. 這邊所輸入的維度標記完成之檔案是針對罷工站台或是站台上的維度標記（分析實驗室）之輸出格式做撰寫\n",
    " 2. 維度部分只要帶有1、0判斷的欄位都可做使用"
   ]
  },
  {
   "cell_type": "markdown",
   "metadata": {
    "tags": []
   },
   "source": [
    "#### 前置作業"
   ]
  },
  {
   "cell_type": "code",
   "execution_count": null,
   "metadata": {},
   "outputs": [],
   "source": [
    "#設定環境\n",
    "#-*-coding:UTF-8-*- \n",
    "\n",
    "import os, time, glob, socket\n",
    "\n",
    "print(\"【日期時間】{}\".format(time.strftime(\"%Y/%m/%d %H:%M:%S\")))\n",
    "print(\"【工作目錄】{}\".format(os.getcwd()))\n",
    "print(\"【主機名稱】{} ({})\".format(socket.gethostname(),socket.gethostbyname(socket.gethostname())))\n",
    "\n",
    "#設定自動存檔時間\n",
    "%autosave 60"
   ]
  },
  {
   "cell_type": "code",
   "execution_count": null,
   "metadata": {},
   "outputs": [],
   "source": [
    "#安裝pandas套件\n",
    "\n",
    "!pip install tqdm\n",
    "import pandas as pd\n",
    "from tqdm.notebook import trange, tqdm #可以出現進度條的模組\n",
    "from time import sleep"
   ]
  },
  {
   "cell_type": "code",
   "execution_count": null,
   "metadata": {},
   "outputs": [],
   "source": [
    "#匯入excel檔\n",
    "##要自行更換路徑\n",
    "\n",
    "import warnings\n",
    "\n",
    "with warnings.catch_warnings(record=True):\n",
    "    warnings.simplefilter(\"always\")\n",
    "    df = pd.read_excel(r\"C:\\Users\\mingyanlin\\OneDrive\\文件\\01. Task\\01. eLand\\03. Analysis Reports\\【Fubon Securities 富邦證券】季報\\2022 Q2\\DimTag_Result_22Q2fbs季報.xlsx\", \n",
    "                       engine=\"openpyxl\")"
   ]
  },
  {
   "cell_type": "code",
   "execution_count": null,
   "metadata": {
    "tags": []
   },
   "outputs": [],
   "source": [
    "#檢視資料狀況\n",
    "\n",
    "df.head()"
   ]
  },
  {
   "cell_type": "code",
   "execution_count": null,
   "metadata": {
    "tags": []
   },
   "outputs": [],
   "source": [
    "#預先設定後續批次輸出的路徑，請替換成後續想要迴圈輸出的地方\n",
    "\n",
    "path = \"C:/Users/mingyanlin/OneDrive/文件/01. Task/01. eLand/03. Analysis Reports/【Fubon Securities 富邦證券】季報/2022 Q2/Dimtag/\""
   ]
  },
  {
   "cell_type": "markdown",
   "metadata": {
    "tags": []
   },
   "source": [
    "#### 1、按「主題」匯出"
   ]
  },
  {
   "cell_type": "code",
   "execution_count": null,
   "metadata": {},
   "outputs": [],
   "source": [
    "#建立一個主題list\n",
    "##直接把所有文字複製貼進\"\"中\n",
    "\n",
    "brands = \"富邦證券\t國泰證券\t永豐金證券\t元大證券\t凱基證券\t日盛證券\"\n",
    "brands = brands.split(\"\\t\")\n",
    "print(brands)"
   ]
  },
  {
   "cell_type": "code",
   "execution_count": null,
   "metadata": {
    "tags": []
   },
   "outputs": [],
   "source": [
    "#迴圈輸出檔案\n",
    "\n",
    "for i in tqdm(brands):\n",
    "    newpath = path + str(i) + '.xlsx'\n",
    "    df_by_brand = df[df[\"監測主題\"] == i]\n",
    "    df_by_brand.to_excel(newpath, index=False)\n",
    "    sleep(0.5)"
   ]
  },
  {
   "cell_type": "code",
   "execution_count": null,
   "metadata": {},
   "outputs": [],
   "source": [
    "#如果出現urls的錯誤，可改用此code\n",
    "\n",
    "for i in tqdm(brands):\n",
    "    newpath = path + str(i) + '.xlsx'\n",
    "    df_by_brand = df[df[\"監測主題\"] == i]\n",
    "    with pd.ExcelWriter(newpath, engine='xlsxwriter', engine_kwargs={'options': {'strings_to_numbers': True, 'strings_to_urls' : False}}) as writer:\n",
    "        df_by_brand.to_excel(writer, index=False)\n",
    "    sleep(0.5)"
   ]
  },
  {
   "cell_type": "markdown",
   "metadata": {
    "tags": []
   },
   "source": [
    "#### 2、按「維度」命中匯出"
   ]
  },
  {
   "cell_type": "code",
   "execution_count": null,
   "metadata": {},
   "outputs": [],
   "source": [
    "#建立一個維度list\n",
    "##直接把所有文字複製貼進\"\"中\n",
    "###接著用空行\"\\t\"去split這一段字串\n",
    "\n",
    "dms = \"線上開戶\t台股\t定期定額\t海外股票\t基金\t信用\t期權\t其他商品\"\n",
    "dms = dms.split(\"\\t\")\n",
    "print(dms)"
   ]
  },
  {
   "cell_type": "code",
   "execution_count": null,
   "metadata": {
    "jupyter": {
     "outputs_hidden": true
    }
   },
   "outputs": [],
   "source": [
    "#迴圈輸出檔案\n",
    "\n",
    "for i in tqdm(dms):\n",
    "    newpath = path + \"【\" + str(i) + \"】\" + '維度標記.xlsx'\n",
    "    df_by_dms = df[df[i] == 1]\n",
    "    df_by_dms.to_excel(newpath, index=False)\n",
    "    sleep(0.5)"
   ]
  },
  {
   "cell_type": "code",
   "execution_count": null,
   "metadata": {},
   "outputs": [],
   "source": [
    "#如果出現urls的錯誤，可改用此code\n",
    "\n",
    "for i in tqdm(dms):\n",
    "    newpath = path + \"【\" + str(i) + \"】\" + '維度標記.xlsx'\n",
    "    df_by_dms = df[df[i] == 1]\n",
    "    with pd.ExcelWriter(newpath, engine='openpyxl',\n",
    "                        engine_kwargs={\"options\":{'strings_to_numbers': True, 'strings_to_urls' : False}}) as writer:\n",
    "        df_by_dms.to_excel(writer, index=False)\n",
    "    sleep(0.5)"
   ]
  },
  {
   "cell_type": "code",
   "execution_count": null,
   "metadata": {
    "jupyter": {
     "outputs_hidden": true
    },
    "tags": []
   },
   "outputs": [],
   "source": [
    "#直接迴圈輸出每主題x每維度之數值\n",
    "\n",
    "DimDic = {}\n",
    "\n",
    "for i in tqdm(brands):\n",
    "    for k in tqdm(dms):\n",
    "        DimDic[i+\"-\"+k] = df[df.監測主題 == i][k].sum()\n",
    "\n",
    "for m in DimDic.items():\n",
    "    print(m)"
   ]
  },
  {
   "cell_type": "code",
   "execution_count": null,
   "metadata": {
    "tags": []
   },
   "outputs": [],
   "source": [
    "#直接迴圈輸出每維度x每主題之數值\n",
    "\n",
    "DimDic = {}\n",
    "\n",
    "for i in tqdm(dms):\n",
    "    for k in tqdm(brands):\n",
    "        DimDic[i+\"-\"+k] = df[df.監測主題 == k][i].sum()\n",
    "\n",
    "for m in DimDic.items():\n",
    "    print(m)"
   ]
  },
  {
   "cell_type": "code",
   "execution_count": null,
   "metadata": {},
   "outputs": [],
   "source": [
    "DimDic = {}\n",
    "\n",
    "for i in tqdm(brands):\n",
    "    DimDic[i] = df[df.監測主題 == i][\"台股\"].sum() / 81\n",
    "    \n",
    "for m in DimDic.items():\n",
    "    print(m)"
   ]
  },
  {
   "cell_type": "code",
   "execution_count": null,
   "metadata": {},
   "outputs": [],
   "source": [
    "DimDic = {}\n",
    "\n",
    "for i in tqdm(brands):\n",
    "    DimDic[i] = df[df.監測主題 == i][\"台股\"].sum()\n",
    "    \n",
    "for m in DimDic.items():\n",
    "    print(m)"
   ]
  },
  {
   "cell_type": "markdown",
   "metadata": {
    "tags": []
   },
   "source": [
    "#### 3、圖表測試區"
   ]
  },
  {
   "cell_type": "code",
   "execution_count": null,
   "metadata": {
    "tags": []
   },
   "outputs": [],
   "source": [
    "#安裝套件\n",
    "\n",
    "!pip install matplotlib\n",
    "import matplotlib.pyplot as plt"
   ]
  },
  {
   "cell_type": "code",
   "execution_count": null,
   "metadata": {
    "jupyter": {
     "outputs_hidden": true
    },
    "tags": []
   },
   "outputs": [],
   "source": [
    "#查看現有安裝字體\n",
    "\n",
    "import matplotlib.font_manager\n",
    " \n",
    "a = sorted([f.name for f in matplotlib.font_manager.fontManager.ttflist])\n",
    " \n",
    "for i in a:\n",
    "    print(i)"
   ]
  },
  {
   "cell_type": "code",
   "execution_count": null,
   "metadata": {},
   "outputs": [],
   "source": [
    "#指定其中一個字型做繪製\n",
    "\n",
    "plt.rcParams['font.sans-serif'] = ['Microsoft YaHei']"
   ]
  },
  {
   "cell_type": "code",
   "execution_count": null,
   "metadata": {},
   "outputs": [],
   "source": [
    "#如果繪製直方圖之前要先做一些條件篩選，可用此段\n",
    "\n",
    "ds = (df[\"來源\"] == \"新聞\") & (df[\"主文/回文\"] != \"主文\")\n",
    "\n",
    "##確定條件篩選後之資料正確與否\n",
    "\n",
    "ds = df[ds]\n",
    "ds.head()"
   ]
  },
  {
   "cell_type": "code",
   "execution_count": null,
   "metadata": {},
   "outputs": [],
   "source": [
    "#繪製維度聲量直方圖\n",
    "\n",
    "DimDic = {}\n",
    "\n",
    "for i in tqdm(brands):\n",
    "    DimDic[i] = df[df.監測主題 == i][\"台股\"].sum()\n",
    "    \n",
    "for m in DimDic.items():\n",
    "    print(m)\n",
    "    \n",
    "xx = list(DimDic.keys())\n",
    "yy = list(DimDic.values())\n",
    "\n",
    "plt1 = plt.bar(xx, yy, alpha=1, color='#f2cece')\n",
    "#alpha是設定透明度0~1；color可以指定顏色進去\n",
    "\n",
    "plt.title(\"[ \"+\"台股\"+\" ]\"+\" 維度 x 各券商聲量直方圖\")\n",
    "plt.xlabel(\"券商品牌\")\n",
    "plt.ylabel(\"聲量則數\")\n",
    "plt.grid(axis='y', alpha=0.75)\n",
    "\n",
    "for x,y in enumerate(yy):\n",
    "    plt.text(x,y,'%s'%y,ha='center')\n",
    "\n",
    "plt.show()"
   ]
  }
 ],
 "metadata": {
  "kernelspec": {
   "display_name": "Python 3 (ipykernel)",
   "language": "python",
   "name": "python3"
  },
  "language_info": {
   "codemirror_mode": {
    "name": "ipython",
    "version": 3
   },
   "file_extension": ".py",
   "mimetype": "text/x-python",
   "name": "python",
   "nbconvert_exporter": "python",
   "pygments_lexer": "ipython3",
   "version": "3.9.7"
  }
 },
 "nbformat": 4,
 "nbformat_minor": 4
}
