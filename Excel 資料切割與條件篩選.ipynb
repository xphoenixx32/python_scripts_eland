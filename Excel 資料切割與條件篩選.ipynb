{
 "cells": [
  {
   "cell_type": "markdown",
   "id": "db14d970-49da-4b19-adbf-a74428c996ba",
   "metadata": {},
   "source": [
    "### 將Excel按照一定條件做切割/篩選\n",
    "\n",
    "following content first written in 2021.Dec.<br>\n",
    "\n",
    " - 說明:\n",
    " 1. 這邊所輸入的資料可以直接是從站台下載下來的文章列表\n",
    " 2. 只要用以：(1)快速處理資料檔做一些處理；(2)協助做多重條件輸出，快速撈出符合特定條件的資料"
   ]
  },
  {
   "cell_type": "markdown",
   "id": "7b916705-cc5c-4010-84c1-e343ce6c7747",
   "metadata": {},
   "source": [
    "#### 前置作業"
   ]
  },
  {
   "cell_type": "code",
   "execution_count": null,
   "id": "470946a4-aa8d-402e-996b-add7432ab687",
   "metadata": {},
   "outputs": [],
   "source": [
    "#設定環境\n",
    "#-*-coding:UTF-8-*- \n",
    "\n",
    "import os, time, glob, socket\n",
    "\n",
    "print(\"【日期時間】{}\".format(time.strftime(\"%Y/%m/%d %H:%M:%S\")))\n",
    "print(\"【工作目錄】{}\".format(os.getcwd()))\n",
    "print(\"【主機名稱】{} ({})\".format(socket.gethostname(),socket.gethostbyname(socket.gethostname())))\n",
    "\n",
    "#設定自動存檔時間\n",
    "%autosave 60"
   ]
  },
  {
   "cell_type": "code",
   "execution_count": null,
   "id": "d43385d4",
   "metadata": {},
   "outputs": [],
   "source": [
    "#安裝套件\n",
    "\n",
    "!pip install tqdm\n",
    "import pandas as pd\n",
    "from tqdm.notebook import trange, tqdm #可以出現進度條的模組\n",
    "from time import sleep\n",
    "import pandas as pd"
   ]
  },
  {
   "cell_type": "code",
   "execution_count": null,
   "id": "16840856-7da9-496e-9122-51755788e54f",
   "metadata": {},
   "outputs": [],
   "source": [
    "#匯入excel檔\n",
    "##要自行更換路徑\n",
    "\n",
    "import warnings\n",
    "\n",
    "with warnings.catch_warnings(record=True):\n",
    "    warnings.simplefilter(\"always\")\n",
    "    df1 = pd.read_excel(r\"C:\\Users\\xphoe\\OneDrive\\文件\\Task\\eLand\\【Unilever】火鍋專案分析報告\\維度資料\\標記_2021aug.xlsx\", \n",
    "                       engine=\"openpyxl\", \n",
    "                       index_col='監測主題')\n",
    "\n",
    "with warnings.catch_warnings(record=True):\n",
    "    warnings.simplefilter(\"always\")\n",
    "    df2 = pd.read_excel(r\"C:\\Users\\xphoe\\OneDrive\\文件\\Task\\eLand\\【Unilever】火鍋專案分析報告\\維度資料\\標記_2021sep.xlsx\", \n",
    "                       engine=\"openpyxl\", \n",
    "                       index_col='監測主題')\n",
    "\n",
    "with warnings.catch_warnings(record=True):\n",
    "    warnings.simplefilter(\"always\")\n",
    "    df3 = pd.read_excel(r\"C:\\Users\\xphoe\\OneDrive\\文件\\Task\\eLand\\【Unilever】火鍋專案分析報告\\維度資料\\標記_2021oct.xlsx\", \n",
    "                       engine=\"openpyxl\", \n",
    "                       index_col='監測主題')"
   ]
  },
  {
   "cell_type": "code",
   "execution_count": null,
   "id": "a1dbc539",
   "metadata": {},
   "outputs": [],
   "source": [
    "df = pd.concat([df1,df2,df3])"
   ]
  },
  {
   "cell_type": "markdown",
   "id": "08273c83-8ff9-4f5d-a35b-69fe96a0e62b",
   "metadata": {},
   "source": [
    "#### 1、按條件將既有欄位做切割"
   ]
  },
  {
   "cell_type": "code",
   "execution_count": null,
   "id": "d2af19fa",
   "metadata": {},
   "outputs": [],
   "source": [
    "#將 \"來源網站\" 的內容，切割、另建立成 \"網站\" 、 \"頻道\" 2個不同的欄位\n",
    "df[['網站', '頻道']] = df.來源網站.str.split(' > ', expand = True)\n",
    "\n",
    "#將 \"發佈時間\" 的內容，切割、另建立成 \"日期\" 、 \"時間\" 2個不同的欄位\n",
    "df[['日期', '時間']] = df.發佈時間.str.split(' ', expand = True)\n",
    "\n",
    "#將 \"發佈時間\" 的內容，切割、另建立 \"年份\" 、 \"月\" 、 \"日\" 3個不同的欄位\n",
    "df[['年份', '月', '日']] = df.日期.str.split('/', expand = True)\n",
    "\n",
    "#將 \"時間\" 的內容，切割、另建立 \"時\" 、 \"分\" 、 \"秒\" 3個不同的欄位\n",
    "df[['時', '分', '秒']] = df.時間.str.split(':', expand = True)\n",
    "\n",
    "#將所有的開頭為回文的字串，都取代成 \"回文\" 2字\n",
    "df = df.replace({\"主文/回文\" : r\"^回文.*$\"}, {\"主文/回文\" : \"回文\"}, regex= True)"
   ]
  },
  {
   "cell_type": "markdown",
   "id": "3de8819a-4f7a-4cf2-b753-e65232ed4e57",
   "metadata": {},
   "source": [
    "#### 2、按條件將資料做篩選"
   ]
  },
  {
   "cell_type": "code",
   "execution_count": null,
   "id": "771cd593",
   "metadata": {
    "tags": []
   },
   "outputs": [],
   "source": [
    "#多重條件篩選\n",
    "##檢視資料目前形式，df.head(顯示前幾列的資料)\n",
    "ds = (df[\"網站\"] != \"Facebook公開社團\") & (df[\"網站\"] != \"Facebook不公開社團\") & (df[\"網站\"] != \"Facebook公眾訊息\") & (df[\"網站\"] != \"Instagram\")\n",
    "df[ds].head(5)"
   ]
  },
  {
   "cell_type": "code",
   "execution_count": null,
   "id": "6af3c09c",
   "metadata": {},
   "outputs": [],
   "source": [
    "ds = (df[\"[維度]:麻辣*鍋\"] == 1) | (df[\"[維度]:薑母鴨\"] == 1) | (df[\"[維度]:羊肉爐\"] == 1) | (df[\"[維度]:拌麵|麵線|烏龍麵|關廟麵|意麵|義大利麵|筆管麵|蕎麥麵|王子麵|雞蛋麵|刀削麵|寬麵|粄條|拉麵|韓國拉麵|韓國泡麵|泡麵|科學麵|蒸煮麵|冬粉|米粉\"] == 1) | (df[\"[維度]:滷肉飯|魯肉飯|炒飯|油飯|白飯|粥\"] == 1) | (df[\"[維度]:爆米花|提拉米蘇|蛋糕|滷味|冰淇淋|哈根達斯|雪糕|冰棒|湯圓\"] == 1)\n",
    "df[ds].head(3)"
   ]
  },
  {
   "cell_type": "markdown",
   "id": "c5963cb4-6e41-475d-8b47-577f95dcbe5c",
   "metadata": {},
   "source": [
    "#### Excel輸出"
   ]
  },
  {
   "cell_type": "code",
   "execution_count": null,
   "id": "7c2e0a99",
   "metadata": {},
   "outputs": [],
   "source": [
    "with pd.ExcelWriter(r\"C:\\Users\\xphoe\\OneDrive\\文件\\2021維度標記資料_python.xlsx\", \n",
    "                    engine='xlsxwriter', \n",
    "                    options={'strings_to_urls': False}) as writer:\n",
    "    df[ds].to_excel(writer, sheet_name='文章列表')"
   ]
  }
 ],
 "metadata": {
  "kernelspec": {
   "display_name": "Python 3 (ipykernel)",
   "language": "python",
   "name": "python3"
  },
  "language_info": {
   "codemirror_mode": {
    "name": "ipython",
    "version": 3
   },
   "file_extension": ".py",
   "mimetype": "text/x-python",
   "name": "python",
   "nbconvert_exporter": "python",
   "pygments_lexer": "ipython3",
   "version": "3.9.7"
  }
 },
 "nbformat": 4,
 "nbformat_minor": 5
}
