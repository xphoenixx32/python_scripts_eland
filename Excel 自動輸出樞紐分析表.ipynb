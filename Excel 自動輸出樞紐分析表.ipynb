{
 "cells": [
  {
   "cell_type": "markdown",
   "metadata": {},
   "source": [
    "### Excel 自動輸出樞紐分析表\n",
    "\n",
    "內容主要參考自[pandas.pivot_table](https://pandas.pydata.org/pandas-docs/stable/reference/api/pandas.pivot_table.html)<br>\n",
    "following content first written in 2021.Jun.<br>\n",
    "\n",
    " - 說明:\n",
    "1. 還是要先透過excel檔案先行透過自己所欲的方式去排雜\n",
    "2. \"主文/回文\"的欄位還是要先透過excel處理，把\"回文xx\"全部更動為\"回文\""
   ]
  },
  {
   "cell_type": "markdown",
   "metadata": {},
   "source": [
    "#### 前置作業"
   ]
  },
  {
   "cell_type": "code",
   "execution_count": null,
   "metadata": {},
   "outputs": [],
   "source": [
    "#設定環境\n",
    "#-*-coding:UTF-8-*- \n",
    "\n",
    "import os, time, glob, socket\n",
    "\n",
    "print(\"【日期時間】{}\".format(time.strftime(\"%Y/%m/%d %H:%M:%S\")))\n",
    "print(\"【工作目錄】{}\".format(os.getcwd()))\n",
    "print(\"【主機名稱】{} ({})\".format(socket.gethostname(),socket.gethostbyname(socket.gethostname())))\n",
    "\n",
    "#設定自動存檔時間\n",
    "\n",
    "%autosave 60"
   ]
  },
  {
   "cell_type": "code",
   "execution_count": null,
   "metadata": {},
   "outputs": [],
   "source": [
    "#安裝pandas套件\n",
    "\n",
    "import pandas as pd"
   ]
  },
  {
   "cell_type": "code",
   "execution_count": null,
   "metadata": {},
   "outputs": [],
   "source": [
    "#匯入excel檔\n",
    "##要自行更換路徑\n",
    "\n",
    "import warnings\n",
    "\n",
    "with warnings.catch_warnings(record=True):\n",
    "    warnings.simplefilter(\"always\")\n",
    "    df = pd.read_excel(r\"C:\\Users\\mingyanlin\\OneDrive\\文件\\Task\\eLand\\【Unilever】火鍋專案分析報告\\火鍋報告_促銷優惠.xlsx\", \n",
    "                       engine=\"openpyxl\", \n",
    "                       index_col='監測主題')"
   ]
  },
  {
   "cell_type": "markdown",
   "metadata": {},
   "source": [
    "#### 1、資料切割與清整"
   ]
  },
  {
   "cell_type": "code",
   "execution_count": null,
   "metadata": {},
   "outputs": [],
   "source": [
    "#將 \"來源網站\" 的內容，切割、另建立成 \"網站\" 、 \"頻道\" 2個不同的欄位\n",
    "df[['網站', '頻道']] = df.來源網站.str.split(' > ', expand = True)"
   ]
  },
  {
   "cell_type": "code",
   "execution_count": null,
   "metadata": {},
   "outputs": [],
   "source": [
    "#將 \"發佈時間\" 的內容，切割、另建立成 \"日期\" 、 \"時間\" 2個不同的欄位\n",
    "df[['日期', '時間']] = df.發佈時間.str.split(' ', expand = True)"
   ]
  },
  {
   "cell_type": "code",
   "execution_count": null,
   "metadata": {},
   "outputs": [],
   "source": [
    "#將 \"發佈時間\" 的內容，切割、另建立 \"年份\" 、 \"月\" 、 \"日\" 3個不同的欄位\n",
    "df[['年份', '月', '日']] = df.日期.str.split('/', expand = True)"
   ]
  },
  {
   "cell_type": "code",
   "execution_count": null,
   "metadata": {},
   "outputs": [],
   "source": [
    "#將 \"時間\" 的內容，切割、另建立 \"時\" 、 \"分\" 、 \"秒\" 3個不同的欄位\n",
    "df[['時', '分', '秒']] = df.時間.str.split(':', expand = True)"
   ]
  },
  {
   "cell_type": "code",
   "execution_count": null,
   "metadata": {},
   "outputs": [],
   "source": [
    "#將所有的開頭為回文的字串，都取代成 \"回文\" 2字\n",
    "df = df.replace({\"主文/回文\" : r\"^回文.*$\"}, {\"主文/回文\" : \"回文\"}, regex= True)"
   ]
  },
  {
   "cell_type": "code",
   "execution_count": null,
   "metadata": {},
   "outputs": [],
   "source": [
    "#檢視資料目前形式，df.head(顯示前幾列的資料)\n",
    "df.head(3)"
   ]
  },
  {
   "cell_type": "code",
   "execution_count": null,
   "metadata": {},
   "outputs": [],
   "source": [
    "ds = df[\"網站\"] != \"Facebook公開社團\"\n",
    "\n",
    "with pd.ExcelWriter(r\"C:\\Users\\mingyanlin\\OneDrive\\文件\\Task\\eLand\\【Unilever】火鍋專案分析報告\\促銷優惠_python.xlsx\", \n",
    "                    engine='xlsxwriter',\n",
    "                    engine_kwargs={'options': {'strings_to_numbers': True, 'strings_to_urls' : False}}) as writer:\n",
    "    df[ds].to_excel(writer, sheet_name='文章列表')"
   ]
  },
  {
   "cell_type": "markdown",
   "metadata": {},
   "source": [
    "#### 2、樞紐分析"
   ]
  },
  {
   "cell_type": "code",
   "execution_count": null,
   "metadata": {},
   "outputs": [],
   "source": [
    "#情緒標記 x 主回文\n",
    "pt1 = pd.pivot_table(df, values='來源', \n",
    "               columns=\"情緒標記\", \n",
    "               index=\"主文/回文\", \n",
    "               aggfunc='count', fill_value=0)"
   ]
  },
  {
   "cell_type": "code",
   "execution_count": null,
   "metadata": {},
   "outputs": [],
   "source": [
    "#情緒標記 x 來源網站\n",
    "pt2 = pd.pivot_table(df, values='來源', \n",
    "               columns=\"情緒標記\", \n",
    "               index=\"來源網站\", \n",
    "               aggfunc='count', fill_value=0)"
   ]
  },
  {
   "cell_type": "code",
   "execution_count": null,
   "metadata": {},
   "outputs": [],
   "source": [
    "#來源網站 x 主/回文\n",
    "pt3 = pd.pivot_table(df, values='來源', \n",
    "               columns=\"主文/回文\", \n",
    "               index=\"來源網站\", \n",
    "               aggfunc='count', fill_value=0)"
   ]
  },
  {
   "cell_type": "code",
   "execution_count": null,
   "metadata": {},
   "outputs": [],
   "source": [
    "#by月 x 情緒標記\n",
    "pt4 = pd.pivot_table(df, values='來源',\n",
    "               index='月', \n",
    "               columns='情緒標記', \n",
    "               aggfunc='count', fill_value=0)"
   ]
  },
  {
   "cell_type": "code",
   "execution_count": null,
   "metadata": {},
   "outputs": [],
   "source": [
    "#by月 x 主/回文\n",
    "pt5 = pd.pivot_table(df, values='來源', \n",
    "               index='月', \n",
    "               columns='主文/回文', \n",
    "               aggfunc='count', fill_value=0)"
   ]
  },
  {
   "cell_type": "code",
   "execution_count": null,
   "metadata": {},
   "outputs": [],
   "source": [
    "#來源網站 x 情緒標記 x 主回文\n",
    "pt6 = pd.merge(pt2, pt3, on='來源網站')"
   ]
  },
  {
   "cell_type": "code",
   "execution_count": null,
   "metadata": {},
   "outputs": [],
   "source": [
    "#by月 x 情緒標記 x 主回文\n",
    "pt7 = pd.merge(pt4, pt5, on='月')"
   ]
  },
  {
   "cell_type": "code",
   "execution_count": null,
   "metadata": {},
   "outputs": [],
   "source": [
    "#by月 x 每小時聲量數\n",
    "pt8 = pd.pivot_table(df, values='來源', \n",
    "               columns=\"月\", \n",
    "               index=\"時\", \n",
    "               aggfunc='count', fill_value=0)"
   ]
  },
  {
   "cell_type": "code",
   "execution_count": null,
   "metadata": {},
   "outputs": [],
   "source": [
    "#來源 x 主回文\n",
    "pt9 = pd.pivot_table(df, values='來源網站', \n",
    "               columns=\"主文/回文\", \n",
    "               index=\"來源\", \n",
    "               aggfunc='count', fill_value=0)"
   ]
  },
  {
   "cell_type": "code",
   "execution_count": null,
   "metadata": {},
   "outputs": [],
   "source": [
    "#來源 x 情緒標記\n",
    "pt10 = pd.pivot_table(df, values='來源網站', \n",
    "               columns=\"情緒標記\", \n",
    "               index=\"來源\", \n",
    "               aggfunc='count', fill_value=0)"
   ]
  },
  {
   "cell_type": "code",
   "execution_count": null,
   "metadata": {},
   "outputs": [],
   "source": [
    "#來源 x 情緒標記 x 主回文\n",
    "pt11 = pd.merge(pt9, pt10, on='來源')"
   ]
  },
  {
   "cell_type": "markdown",
   "metadata": {},
   "source": [
    "#### 3、匯出資料成Excel檔\n",
    "\n",
    "1. 把製作完成的樞紐分析表匯出成excel檔\n",
    "2. 要自行更換路徑跟檔名"
   ]
  },
  {
   "cell_type": "code",
   "execution_count": null,
   "metadata": {},
   "outputs": [],
   "source": [
    "with pd.ExcelWriter(r\"C:\\Users\\xphoe\\樞紐_3人.xlsx\", options={'strings_to_urls': False}) as writer:\n",
    "    df.to_excel(writer, sheet_name='Data Set')\n",
    "    pt1.to_excel(writer, sheet_name='情緒標記 x 主回文')\n",
    "    pt2.to_excel(writer, sheet_name='來源網站 x 情緒標記')\n",
    "    pt3.to_excel(writer, sheet_name='來源網站 x 主回文')\n",
    "    pt4.to_excel(writer, sheet_name='by月 x 情緒標記')\n",
    "    pt5.to_excel(writer, sheet_name='by月 x 主回文')\n",
    "    pt6.to_excel(writer, sheet_name='來源網站 x 情緒標記 x 主回文')\n",
    "    pt7.to_excel(writer, sheet_name='by月 x 情緒標記 x 主回文')\n",
    "    pt8.to_excel(writer, sheet_name='by月 x 每小時聲量數')\n",
    "    pt9.to_excel(writer, sheet_name='來源 x 主回文')\n",
    "    pt10.to_excel(writer, sheet_name='來源 x 情緒標記')\n",
    "    pt11.to_excel(writer, sheet_name='來源 x 情緒標記 x 主回文')"
   ]
  }
 ],
 "metadata": {
  "kernelspec": {
   "display_name": "Python 3 (ipykernel)",
   "language": "python",
   "name": "python3"
  },
  "language_info": {
   "codemirror_mode": {
    "name": "ipython",
    "version": 3
   },
   "file_extension": ".py",
   "mimetype": "text/x-python",
   "name": "python",
   "nbconvert_exporter": "python",
   "pygments_lexer": "ipython3",
   "version": "3.9.7"
  }
 },
 "nbformat": 4,
 "nbformat_minor": 4
}
