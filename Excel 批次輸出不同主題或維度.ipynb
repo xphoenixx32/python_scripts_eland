{
 "cells": [
  {
   "cell_type": "markdown",
   "metadata": {
    "tags": []
   },
   "source": [
    "### 將Excel檔按不同主題/維度去分割，並自動另存輸出\n",
    "\n",
    "following content first written in 2022.Mar.<br>\n",
    "\n",
    " - 說明:\n",
    " 1. 這邊所輸入的維度標記完成之檔案是針對罷工站台或是站台上的維度標記（分析實驗室）之輸出格式做撰寫\n",
    " 2. 維度部分只要帶有1、0判斷的欄位都可做使用"
   ]
  },
  {
   "cell_type": "markdown",
   "metadata": {
    "tags": []
   },
   "source": [
    "#### 前置作業"
   ]
  },
  {
   "cell_type": "code",
   "execution_count": 1,
   "metadata": {},
   "outputs": [
    {
     "name": "stdout",
     "output_type": "stream",
     "text": [
      "【日期時間】2022/06/23 10:42:26\n",
      "【工作目錄】C:\\Users\\mingyanlin\\OneDrive\\文件\\02. Python Scripts\n",
      "【主機名稱】nb543 (10.10.20.33)\n"
     ]
    },
    {
     "data": {
      "application/javascript": [
       "IPython.notebook.set_autosave_interval(60000)"
      ]
     },
     "metadata": {},
     "output_type": "display_data"
    },
    {
     "name": "stdout",
     "output_type": "stream",
     "text": [
      "Autosaving every 60 seconds\n"
     ]
    }
   ],
   "source": [
    "#設定環境\n",
    "#-*-coding:UTF-8-*- \n",
    "\n",
    "import os, time, glob, socket\n",
    "\n",
    "print(\"【日期時間】{}\".format(time.strftime(\"%Y/%m/%d %H:%M:%S\")))\n",
    "print(\"【工作目錄】{}\".format(os.getcwd()))\n",
    "print(\"【主機名稱】{} ({})\".format(socket.gethostname(),socket.gethostbyname(socket.gethostname())))\n",
    "\n",
    "#設定自動存檔時間\n",
    "%autosave 60"
   ]
  },
  {
   "cell_type": "code",
   "execution_count": 2,
   "metadata": {},
   "outputs": [
    {
     "name": "stdout",
     "output_type": "stream",
     "text": [
      "Requirement already satisfied: tqdm in c:\\users\\mingyanlin\\anaconda3\\lib\\site-packages (4.62.3)\n",
      "Requirement already satisfied: colorama in c:\\users\\mingyanlin\\anaconda3\\lib\\site-packages (from tqdm) (0.4.4)\n"
     ]
    }
   ],
   "source": [
    "#安裝pandas套件\n",
    "\n",
    "!pip install tqdm\n",
    "import pandas as pd\n",
    "from tqdm.notebook import trange, tqdm #可以出現進度條的模組\n",
    "from time import sleep"
   ]
  },
  {
   "cell_type": "code",
   "execution_count": 3,
   "metadata": {},
   "outputs": [],
   "source": [
    "#匯入excel檔\n",
    "##要自行更換路徑\n",
    "\n",
    "import warnings\n",
    "\n",
    "with warnings.catch_warnings(record=True):\n",
    "    warnings.simplefilter(\"always\")\n",
    "    df = pd.read_excel(r\"C:\\Users\\mingyanlin\\OneDrive\\文件\\01. Task\\01. eLand\\03. Analysis Reports\\【Fubon Securities 富邦證券】季報\\2022 Q2\\DimTag_Result_22Q2fbs季報.xlsx\", \n",
    "                       engine=\"openpyxl\")"
   ]
  },
  {
   "cell_type": "code",
   "execution_count": 5,
   "metadata": {
    "collapsed": true,
    "tags": []
   },
   "outputs": [
    {
     "data": {
      "text/html": [
       "<div>\n",
       "<style scoped>\n",
       "    .dataframe tbody tr th:only-of-type {\n",
       "        vertical-align: middle;\n",
       "    }\n",
       "\n",
       "    .dataframe tbody tr th {\n",
       "        vertical-align: top;\n",
       "    }\n",
       "\n",
       "    .dataframe thead th {\n",
       "        text-align: right;\n",
       "    }\n",
       "</style>\n",
       "<table border=\"1\" class=\"dataframe\">\n",
       "  <thead>\n",
       "    <tr style=\"text-align: right;\">\n",
       "      <th></th>\n",
       "      <th>監測主題</th>\n",
       "      <th>標題</th>\n",
       "      <th>內容</th>\n",
       "      <th>來源</th>\n",
       "      <th>來源網站</th>\n",
       "      <th>主文/回文</th>\n",
       "      <th>發佈時間</th>\n",
       "      <th>討論串總則數</th>\n",
       "      <th>點閱數/按讚數</th>\n",
       "      <th>分享/轉貼數/評級</th>\n",
       "      <th>...</th>\n",
       "      <th>網站作者</th>\n",
       "      <th>線上開戶</th>\n",
       "      <th>台股</th>\n",
       "      <th>定期定額</th>\n",
       "      <th>海外股票</th>\n",
       "      <th>基金</th>\n",
       "      <th>信用</th>\n",
       "      <th>期權</th>\n",
       "      <th>其他商品</th>\n",
       "      <th>原始連結</th>\n",
       "    </tr>\n",
       "  </thead>\n",
       "  <tbody>\n",
       "    <tr>\n",
       "      <th>0</th>\n",
       "      <td>元大證券</td>\n",
       "      <td>00905存股季配領息高殖利率低本益比ETF息收價差兩頭賺特選Smart量化多因子抗跌小資...</td>\n",
       "      <td>追蹤「特選Smart多因子指數」&lt;BR&gt;平均年化報酬率逾18%&lt;BR&gt;除了打敗大盤(17%...</td>\n",
       "      <td>社群網站</td>\n",
       "      <td>Youtube關鍵字搜尋 &gt; 關鍵字搜尋</td>\n",
       "      <td>回文1</td>\n",
       "      <td>2022-04-05 19:50:34</td>\n",
       "      <td>6</td>\n",
       "      <td>443</td>\n",
       "      <td>0</td>\n",
       "      <td>...</td>\n",
       "      <td>Youtube關鍵字搜尋_我們這一家</td>\n",
       "      <td>0</td>\n",
       "      <td>0</td>\n",
       "      <td>0</td>\n",
       "      <td>0</td>\n",
       "      <td>0</td>\n",
       "      <td>0</td>\n",
       "      <td>0</td>\n",
       "      <td>1</td>\n",
       "      <td>http://www.youtube.com/watch?v=7HEsbbERnOQ</td>\n",
       "    </tr>\n",
       "    <tr>\n",
       "      <th>1</th>\n",
       "      <td>元大證券</td>\n",
       "      <td>我都忘記有永豐的股票記得當時才10塊錢</td>\n",
       "      <td>Winnie Hsiao永豐證券是持通知單都可以換（通知單上面有寫可以換的地方）；元大證券...</td>\n",
       "      <td>社群網站</td>\n",
       "      <td>Facebook粉絲團 &gt; 不敗教主-陳重銘</td>\n",
       "      <td>回文135</td>\n",
       "      <td>2022-04-29 18:55:12</td>\n",
       "      <td>154</td>\n",
       "      <td>0</td>\n",
       "      <td>0</td>\n",
       "      <td>...</td>\n",
       "      <td>Facebook粉絲團_無作者資訊</td>\n",
       "      <td>0</td>\n",
       "      <td>0</td>\n",
       "      <td>0</td>\n",
       "      <td>0</td>\n",
       "      <td>0</td>\n",
       "      <td>0</td>\n",
       "      <td>0</td>\n",
       "      <td>0</td>\n",
       "      <td>https://www.facebook.com/536526377836742_99051...</td>\n",
       "    </tr>\n",
       "    <tr>\n",
       "      <th>2</th>\n",
       "      <td>元大證券</td>\n",
       "      <td>惜福| 2022-04-12 22:22 |在藥華藥(6446)的爆料</td>\n",
       "      <td>序號4發言日期111/04/12發言時間22:06:51發言人林國鐘發言人職稱執行長發言人...</td>\n",
       "      <td>新聞</td>\n",
       "      <td>CMoney 追訊 &gt; 熱門爆料</td>\n",
       "      <td>回文1</td>\n",
       "      <td>2022-04-12 22:33:00</td>\n",
       "      <td>1</td>\n",
       "      <td>6</td>\n",
       "      <td>0</td>\n",
       "      <td>...</td>\n",
       "      <td>CMoney 追訊_惜福</td>\n",
       "      <td>0</td>\n",
       "      <td>0</td>\n",
       "      <td>1</td>\n",
       "      <td>0</td>\n",
       "      <td>1</td>\n",
       "      <td>0</td>\n",
       "      <td>0</td>\n",
       "      <td>1</td>\n",
       "      <td>https://www.cmoney.tw/forum/article/144226976</td>\n",
       "    </tr>\n",
       "    <tr>\n",
       "      <th>3</th>\n",
       "      <td>元大證券</td>\n",
       "      <td>百變金融女王| 2022-04-15 01:01 |在合庫金(5880)的爆料</td>\n",
       "      <td>隨便買、yang 、星星、hst 、阿玲玲、笑臉a 、信壽郎財務自由、飄飄、johncf ...</td>\n",
       "      <td>新聞</td>\n",
       "      <td>CMoney 追訊 &gt; 熱門爆料</td>\n",
       "      <td>回文3</td>\n",
       "      <td>2022-04-15 01:35:47</td>\n",
       "      <td>3</td>\n",
       "      <td>545</td>\n",
       "      <td>0</td>\n",
       "      <td>...</td>\n",
       "      <td>CMoney 追訊_百變金融女王</td>\n",
       "      <td>0</td>\n",
       "      <td>0</td>\n",
       "      <td>0</td>\n",
       "      <td>0</td>\n",
       "      <td>0</td>\n",
       "      <td>0</td>\n",
       "      <td>0</td>\n",
       "      <td>1</td>\n",
       "      <td>https://www.cmoney.tw/forum/article/144287744</td>\n",
       "    </tr>\n",
       "    <tr>\n",
       "      <th>4</th>\n",
       "      <td>元大證券</td>\n",
       "      <td>台股打工族之二叔操盤| 2022-04-30 19:19 |在八貫(1342)的爆料</td>\n",
       "      <td>證期局：4/29晶焱現增等預計申報生效案件彙總表回應(0)人氣(112)收藏(0)2022...</td>\n",
       "      <td>新聞</td>\n",
       "      <td>CMoney 追訊 &gt; 熱門爆料</td>\n",
       "      <td>回文1</td>\n",
       "      <td>2022-04-30 19:18:18</td>\n",
       "      <td>1</td>\n",
       "      <td>32</td>\n",
       "      <td>0</td>\n",
       "      <td>...</td>\n",
       "      <td>CMoney 追訊_台股打工族之二叔操盤</td>\n",
       "      <td>0</td>\n",
       "      <td>1</td>\n",
       "      <td>0</td>\n",
       "      <td>0</td>\n",
       "      <td>0</td>\n",
       "      <td>0</td>\n",
       "      <td>0</td>\n",
       "      <td>0</td>\n",
       "      <td>https://www.cmoney.tw/forum/article/144718914</td>\n",
       "    </tr>\n",
       "  </tbody>\n",
       "</table>\n",
       "<p>5 rows × 34 columns</p>\n",
       "</div>"
      ],
      "text/plain": [
       "   監測主題                                                 標題  \\\n",
       "0  元大證券   00905存股季配領息高殖利率低本益比ETF息收價差兩頭賺特選Smart量化多因子抗跌小資...   \n",
       "1  元大證券                                我都忘記有永豐的股票記得當時才10塊錢   \n",
       "2  元大證券                惜福| 2022-04-12 22:22 |在藥華藥(6446)的爆料   \n",
       "3  元大證券            百變金融女王| 2022-04-15 01:01 |在合庫金(5880)的爆料   \n",
       "4  元大證券         台股打工族之二叔操盤| 2022-04-30 19:19 |在八貫(1342)的爆料   \n",
       "\n",
       "                                                  內容    來源  \\\n",
       "0   追蹤「特選Smart多因子指數」<BR>平均年化報酬率逾18%<BR>除了打敗大盤(17%...  社群網站   \n",
       "1   Winnie Hsiao永豐證券是持通知單都可以換（通知單上面有寫可以換的地方）；元大證券...  社群網站   \n",
       "2   序號4發言日期111/04/12發言時間22:06:51發言人林國鐘發言人職稱執行長發言人...    新聞   \n",
       "3   隨便買、yang 、星星、hst 、阿玲玲、笑臉a 、信壽郎財務自由、飄飄、johncf ...    新聞   \n",
       "4   證期局：4/29晶焱現增等預計申報生效案件彙總表回應(0)人氣(112)收藏(0)2022...    新聞   \n",
       "\n",
       "                     來源網站  主文/回文                發佈時間  討論串總則數  點閱數/按讚數  \\\n",
       "0    Youtube關鍵字搜尋 > 關鍵字搜尋    回文1 2022-04-05 19:50:34       6      443   \n",
       "1  Facebook粉絲團 > 不敗教主-陳重銘  回文135 2022-04-29 18:55:12     154        0   \n",
       "2        CMoney 追訊 > 熱門爆料    回文1 2022-04-12 22:33:00       1        6   \n",
       "3        CMoney 追訊 > 熱門爆料    回文3 2022-04-15 01:35:47       3      545   \n",
       "4        CMoney 追訊 > 熱門爆料    回文1 2022-04-30 19:18:18       1       32   \n",
       "\n",
       "   分享/轉貼數/評級  ...                  網站作者  線上開戶  台股  定期定額  海外股票  基金 信用  期權  \\\n",
       "0          0  ...    Youtube關鍵字搜尋_我們這一家     0   0     0     0   0  0   0   \n",
       "1          0  ...     Facebook粉絲團_無作者資訊     0   0     0     0   0  0   0   \n",
       "2          0  ...          CMoney 追訊_惜福     0   0     1     0   1  0   0   \n",
       "3          0  ...      CMoney 追訊_百變金融女王     0   0     0     0   0  0   0   \n",
       "4          0  ...  CMoney 追訊_台股打工族之二叔操盤     0   1     0     0   0  0   0   \n",
       "\n",
       "   其他商品                                               原始連結  \n",
       "0     1         http://www.youtube.com/watch?v=7HEsbbERnOQ  \n",
       "1     0  https://www.facebook.com/536526377836742_99051...  \n",
       "2     1      https://www.cmoney.tw/forum/article/144226976  \n",
       "3     1      https://www.cmoney.tw/forum/article/144287744  \n",
       "4     0      https://www.cmoney.tw/forum/article/144718914  \n",
       "\n",
       "[5 rows x 34 columns]"
      ]
     },
     "execution_count": 5,
     "metadata": {},
     "output_type": "execute_result"
    }
   ],
   "source": [
    "#檢視資料狀況\n",
    "\n",
    "df.head()"
   ]
  },
  {
   "cell_type": "code",
   "execution_count": 4,
   "metadata": {
    "tags": []
   },
   "outputs": [],
   "source": [
    "#預先設定後續批次輸出的路徑，請替換成後續想要迴圈輸出的地方\n",
    "\n",
    "path = \"C:/Users/mingyanlin/OneDrive/文件/01. Task/01. eLand/03. Analysis Reports/【Fubon Securities 富邦證券】季報/2022 Q2/Dimtag/\""
   ]
  },
  {
   "cell_type": "markdown",
   "metadata": {
    "tags": []
   },
   "source": [
    "#### 1、按「主題」匯出"
   ]
  },
  {
   "cell_type": "code",
   "execution_count": 6,
   "metadata": {},
   "outputs": [
    {
     "name": "stdout",
     "output_type": "stream",
     "text": [
      "['富邦證券', '國泰證券', '永豐金證券', '元大證券', '凱基證券', '日盛證券']\n"
     ]
    }
   ],
   "source": [
    "#建立一個主題list\n",
    "##直接把所有文字複製貼進\"\"中\n",
    "\n",
    "brands = \"富邦證券\t國泰證券\t永豐金證券\t元大證券\t凱基證券\t日盛證券\"\n",
    "brands = brands.split(\"\\t\")\n",
    "print(brands)"
   ]
  },
  {
   "cell_type": "code",
   "execution_count": 17,
   "metadata": {
    "tags": []
   },
   "outputs": [
    {
     "data": {
      "application/vnd.jupyter.widget-view+json": {
       "model_id": "22ed75c04bd04d269116b553b67a9299",
       "version_major": 2,
       "version_minor": 0
      },
      "text/plain": [
       "  0%|          | 0/6 [00:00<?, ?it/s]"
      ]
     },
     "metadata": {},
     "output_type": "display_data"
    }
   ],
   "source": [
    "#迴圈輸出檔案\n",
    "\n",
    "for i in tqdm(brands):\n",
    "    newpath = path + str(i) + '.xlsx'\n",
    "    df_by_brand = df[df[\"監測主題\"] == i]\n",
    "    df_by_brand.to_excel(newpath, index=False)\n",
    "    sleep(0.5)"
   ]
  },
  {
   "cell_type": "code",
   "execution_count": null,
   "metadata": {},
   "outputs": [],
   "source": [
    "#如果出現urls的錯誤，可改用此code\n",
    "\n",
    "for i in tqdm(brands):\n",
    "    newpath = path + str(i) + '.xlsx'\n",
    "    df_by_brand = df[df[\"監測主題\"] == i]\n",
    "    with pd.ExcelWriter(newpath, engine='xlsxwriter', engine_kwargs={'options': {'strings_to_numbers': True, 'strings_to_urls' : False}}) as writer:\n",
    "        df_by_brand.to_excel(writer, index=False)\n",
    "    sleep(0.5)"
   ]
  },
  {
   "cell_type": "markdown",
   "metadata": {
    "tags": []
   },
   "source": [
    "#### 2、按「維度」命中匯出"
   ]
  },
  {
   "cell_type": "code",
   "execution_count": 7,
   "metadata": {},
   "outputs": [
    {
     "name": "stdout",
     "output_type": "stream",
     "text": [
      "['線上開戶', '台股', '定期定額', '海外股票', '基金', '信用', '期權', '其他商品']\n"
     ]
    }
   ],
   "source": [
    "#建立一個維度list\n",
    "##直接把所有文字複製貼進\"\"中\n",
    "###接著用空行\"\\t\"去split這一段字串\n",
    "\n",
    "dms = \"線上開戶\t台股\t定期定額\t海外股票\t基金\t信用\t期權\t其他商品\"\n",
    "dms = dms.split(\"\\t\")\n",
    "print(dms)"
   ]
  },
  {
   "cell_type": "code",
   "execution_count": 7,
   "metadata": {
    "collapsed": true,
    "jupyter": {
     "outputs_hidden": true
    }
   },
   "outputs": [
    {
     "data": {
      "application/vnd.jupyter.widget-view+json": {
       "model_id": "03c46354a5974de19d65f2e28cdfdcf2",
       "version_major": 2,
       "version_minor": 0
      },
      "text/plain": [
       "  0%|          | 0/8 [00:00<?, ?it/s]"
      ]
     },
     "metadata": {},
     "output_type": "display_data"
    },
    {
     "ename": "NameError",
     "evalue": "name 'path' is not defined",
     "output_type": "error",
     "traceback": [
      "\u001b[1;31m---------------------------------------------------------------------------\u001b[0m",
      "\u001b[1;31mNameError\u001b[0m                                 Traceback (most recent call last)",
      "\u001b[1;32mC:\\Users\\MINGYA~1\\AppData\\Local\\Temp/ipykernel_23652/100530710.py\u001b[0m in \u001b[0;36m<module>\u001b[1;34m\u001b[0m\n\u001b[0;32m      2\u001b[0m \u001b[1;33m\u001b[0m\u001b[0m\n\u001b[0;32m      3\u001b[0m \u001b[1;32mfor\u001b[0m \u001b[0mi\u001b[0m \u001b[1;32min\u001b[0m \u001b[0mtqdm\u001b[0m\u001b[1;33m(\u001b[0m\u001b[0mdms\u001b[0m\u001b[1;33m)\u001b[0m\u001b[1;33m:\u001b[0m\u001b[1;33m\u001b[0m\u001b[1;33m\u001b[0m\u001b[0m\n\u001b[1;32m----> 4\u001b[1;33m     \u001b[0mnewpath\u001b[0m \u001b[1;33m=\u001b[0m \u001b[0mpath\u001b[0m \u001b[1;33m+\u001b[0m \u001b[1;34m\"【\"\u001b[0m \u001b[1;33m+\u001b[0m \u001b[0mstr\u001b[0m\u001b[1;33m(\u001b[0m\u001b[0mi\u001b[0m\u001b[1;33m)\u001b[0m \u001b[1;33m+\u001b[0m \u001b[1;34m\"】\"\u001b[0m \u001b[1;33m+\u001b[0m \u001b[1;34m'維度標記.xlsx'\u001b[0m\u001b[1;33m\u001b[0m\u001b[1;33m\u001b[0m\u001b[0m\n\u001b[0m\u001b[0;32m      5\u001b[0m     \u001b[0mdf_by_dms\u001b[0m \u001b[1;33m=\u001b[0m \u001b[0mdf\u001b[0m\u001b[1;33m[\u001b[0m\u001b[0mdf\u001b[0m\u001b[1;33m[\u001b[0m\u001b[0mi\u001b[0m\u001b[1;33m]\u001b[0m \u001b[1;33m==\u001b[0m \u001b[1;36m1\u001b[0m\u001b[1;33m]\u001b[0m\u001b[1;33m\u001b[0m\u001b[1;33m\u001b[0m\u001b[0m\n\u001b[0;32m      6\u001b[0m     \u001b[0mdf_by_dms\u001b[0m\u001b[1;33m.\u001b[0m\u001b[0mto_excel\u001b[0m\u001b[1;33m(\u001b[0m\u001b[0mnewpath\u001b[0m\u001b[1;33m,\u001b[0m \u001b[0mindex\u001b[0m\u001b[1;33m=\u001b[0m\u001b[1;32mFalse\u001b[0m\u001b[1;33m)\u001b[0m\u001b[1;33m\u001b[0m\u001b[1;33m\u001b[0m\u001b[0m\n",
      "\u001b[1;31mNameError\u001b[0m: name 'path' is not defined"
     ]
    }
   ],
   "source": [
    "#迴圈輸出檔案\n",
    "\n",
    "for i in tqdm(dms):\n",
    "    newpath = path + \"【\" + str(i) + \"】\" + '維度標記.xlsx'\n",
    "    df_by_dms = df[df[i] == 1]\n",
    "    df_by_dms.to_excel(newpath, index=False)\n",
    "    sleep(0.5)"
   ]
  },
  {
   "cell_type": "code",
   "execution_count": 12,
   "metadata": {},
   "outputs": [
    {
     "data": {
      "application/vnd.jupyter.widget-view+json": {
       "model_id": "a5243bcfdb4b45bbb89c7b434c2f2365",
       "version_major": 2,
       "version_minor": 0
      },
      "text/plain": [
       "  0%|          | 0/8 [00:00<?, ?it/s]"
      ]
     },
     "metadata": {},
     "output_type": "display_data"
    }
   ],
   "source": [
    "#如果出現urls的錯誤，可改用此code\n",
    "\n",
    "for i in tqdm(dms):\n",
    "    newpath = path + \"【\" + str(i) + \"】\" + '維度標記.xlsx'\n",
    "    df_by_dms = df[df[i] == 1]\n",
    "    with pd.ExcelWriter(newpath, engine='openpyxl',\n",
    "                        engine_kwargs={\"options\":{'strings_to_numbers': True, 'strings_to_urls' : False}}) as writer:\n",
    "        df_by_dms.to_excel(writer, index=False)\n",
    "    sleep(0.5)"
   ]
  },
  {
   "cell_type": "code",
   "execution_count": 8,
   "metadata": {
    "collapsed": true,
    "jupyter": {
     "outputs_hidden": true
    },
    "tags": []
   },
   "outputs": [
    {
     "data": {
      "application/vnd.jupyter.widget-view+json": {
       "model_id": "5492f6e38f134e8dbe07026290e0dc89",
       "version_major": 2,
       "version_minor": 0
      },
      "text/plain": [
       "  0%|          | 0/6 [00:00<?, ?it/s]"
      ]
     },
     "metadata": {},
     "output_type": "display_data"
    },
    {
     "data": {
      "application/vnd.jupyter.widget-view+json": {
       "model_id": "462ec583be6d461591194d24d086ba61",
       "version_major": 2,
       "version_minor": 0
      },
      "text/plain": [
       "  0%|          | 0/8 [00:00<?, ?it/s]"
      ]
     },
     "metadata": {},
     "output_type": "display_data"
    },
    {
     "data": {
      "application/vnd.jupyter.widget-view+json": {
       "model_id": "3156fcfbdddc41b1a0fc6d49b1d5fedc",
       "version_major": 2,
       "version_minor": 0
      },
      "text/plain": [
       "  0%|          | 0/8 [00:00<?, ?it/s]"
      ]
     },
     "metadata": {},
     "output_type": "display_data"
    },
    {
     "data": {
      "application/vnd.jupyter.widget-view+json": {
       "model_id": "d11235e8147442cb8a91ed5d60bc45d9",
       "version_major": 2,
       "version_minor": 0
      },
      "text/plain": [
       "  0%|          | 0/8 [00:00<?, ?it/s]"
      ]
     },
     "metadata": {},
     "output_type": "display_data"
    },
    {
     "data": {
      "application/vnd.jupyter.widget-view+json": {
       "model_id": "5bdde8778ee842f583d82fd66014fb3e",
       "version_major": 2,
       "version_minor": 0
      },
      "text/plain": [
       "  0%|          | 0/8 [00:00<?, ?it/s]"
      ]
     },
     "metadata": {},
     "output_type": "display_data"
    },
    {
     "data": {
      "application/vnd.jupyter.widget-view+json": {
       "model_id": "58310dc39db24b00b1b0db6233161c64",
       "version_major": 2,
       "version_minor": 0
      },
      "text/plain": [
       "  0%|          | 0/8 [00:00<?, ?it/s]"
      ]
     },
     "metadata": {},
     "output_type": "display_data"
    },
    {
     "data": {
      "application/vnd.jupyter.widget-view+json": {
       "model_id": "72b14b0362f748e7b9d591a3d65d25cb",
       "version_major": 2,
       "version_minor": 0
      },
      "text/plain": [
       "  0%|          | 0/8 [00:00<?, ?it/s]"
      ]
     },
     "metadata": {},
     "output_type": "display_data"
    },
    {
     "name": "stdout",
     "output_type": "stream",
     "text": [
      "('富邦證券-線上開戶', 232)\n",
      "('富邦證券-台股', 3125)\n",
      "('富邦證券-定期定額', 887)\n",
      "('富邦證券-海外股票', 2521)\n",
      "('富邦證券-基金', 1359)\n",
      "('富邦證券-信用', 300)\n",
      "('富邦證券-期權', 1514)\n",
      "('富邦證券-其他商品', 1893)\n",
      "('國泰證券-線上開戶', 315)\n",
      "('國泰證券-台股', 4887)\n",
      "('國泰證券-定期定額', 2657)\n",
      "('國泰證券-海外股票', 2646)\n",
      "('國泰證券-基金', 1184)\n",
      "('國泰證券-信用', 259)\n",
      "('國泰證券-期權', 1305)\n",
      "('國泰證券-其他商品', 1747)\n",
      "('永豐金證券-線上開戶', 517)\n",
      "('永豐金證券-台股', 2226)\n",
      "('永豐金證券-定期定額', 1042)\n",
      "('永豐金證券-海外股票', 1626)\n",
      "('永豐金證券-基金', 488)\n",
      "('永豐金證券-信用', 252)\n",
      "('永豐金證券-期權', 643)\n",
      "('永豐金證券-其他商品', 696)\n",
      "('元大證券-線上開戶', 172)\n",
      "('元大證券-台股', 3690)\n",
      "('元大證券-定期定額', 1387)\n",
      "('元大證券-海外股票', 1524)\n",
      "('元大證券-基金', 816)\n",
      "('元大證券-信用', 368)\n",
      "('元大證券-期權', 1237)\n",
      "('元大證券-其他商品', 1213)\n",
      "('凱基證券-線上開戶', 188)\n",
      "('凱基證券-台股', 806)\n",
      "('凱基證券-定期定額', 393)\n",
      "('凱基證券-海外股票', 753)\n",
      "('凱基證券-基金', 512)\n",
      "('凱基證券-信用', 180)\n",
      "('凱基證券-期權', 600)\n",
      "('凱基證券-其他商品', 595)\n",
      "('日盛證券-線上開戶', 55)\n",
      "('日盛證券-台股', 137)\n",
      "('日盛證券-定期定額', 114)\n",
      "('日盛證券-海外股票', 251)\n",
      "('日盛證券-基金', 307)\n",
      "('日盛證券-信用', 102)\n",
      "('日盛證券-期權', 98)\n",
      "('日盛證券-其他商品', 224)\n"
     ]
    }
   ],
   "source": [
    "#直接迴圈輸出每主題x每維度之數值\n",
    "\n",
    "DimDic = {}\n",
    "\n",
    "for i in tqdm(brands):\n",
    "    for k in tqdm(dms):\n",
    "        DimDic[i+\"-\"+k] = df[df.監測主題 == i][k].sum()\n",
    "\n",
    "for m in DimDic.items():\n",
    "    print(m)"
   ]
  },
  {
   "cell_type": "code",
   "execution_count": 23,
   "metadata": {
    "tags": []
   },
   "outputs": [
    {
     "data": {
      "application/vnd.jupyter.widget-view+json": {
       "model_id": "76fc1002017649e3af8b0d7fd7934be4",
       "version_major": 2,
       "version_minor": 0
      },
      "text/plain": [
       "  0%|          | 0/8 [00:00<?, ?it/s]"
      ]
     },
     "metadata": {},
     "output_type": "display_data"
    },
    {
     "data": {
      "application/vnd.jupyter.widget-view+json": {
       "model_id": "89f687fc6c66492cb6a21c418f62fe77",
       "version_major": 2,
       "version_minor": 0
      },
      "text/plain": [
       "  0%|          | 0/6 [00:00<?, ?it/s]"
      ]
     },
     "metadata": {},
     "output_type": "display_data"
    },
    {
     "data": {
      "application/vnd.jupyter.widget-view+json": {
       "model_id": "80b4bc931631489fb051779056eea003",
       "version_major": 2,
       "version_minor": 0
      },
      "text/plain": [
       "  0%|          | 0/6 [00:00<?, ?it/s]"
      ]
     },
     "metadata": {},
     "output_type": "display_data"
    },
    {
     "data": {
      "application/vnd.jupyter.widget-view+json": {
       "model_id": "4f9e18148d2e444eb5e4a547ddadd8b9",
       "version_major": 2,
       "version_minor": 0
      },
      "text/plain": [
       "  0%|          | 0/6 [00:00<?, ?it/s]"
      ]
     },
     "metadata": {},
     "output_type": "display_data"
    },
    {
     "data": {
      "application/vnd.jupyter.widget-view+json": {
       "model_id": "2d95ea5810514729880da05aa991e69a",
       "version_major": 2,
       "version_minor": 0
      },
      "text/plain": [
       "  0%|          | 0/6 [00:00<?, ?it/s]"
      ]
     },
     "metadata": {},
     "output_type": "display_data"
    },
    {
     "data": {
      "application/vnd.jupyter.widget-view+json": {
       "model_id": "e2ecc449c4e543769dbf8639098c6208",
       "version_major": 2,
       "version_minor": 0
      },
      "text/plain": [
       "  0%|          | 0/6 [00:00<?, ?it/s]"
      ]
     },
     "metadata": {},
     "output_type": "display_data"
    },
    {
     "data": {
      "application/vnd.jupyter.widget-view+json": {
       "model_id": "a6fdc5bd70024244a291f9afb5a6771a",
       "version_major": 2,
       "version_minor": 0
      },
      "text/plain": [
       "  0%|          | 0/6 [00:00<?, ?it/s]"
      ]
     },
     "metadata": {},
     "output_type": "display_data"
    },
    {
     "data": {
      "application/vnd.jupyter.widget-view+json": {
       "model_id": "709b7babb11d4f1abbb7cb2ee9d1822c",
       "version_major": 2,
       "version_minor": 0
      },
      "text/plain": [
       "  0%|          | 0/6 [00:00<?, ?it/s]"
      ]
     },
     "metadata": {},
     "output_type": "display_data"
    },
    {
     "data": {
      "application/vnd.jupyter.widget-view+json": {
       "model_id": "c06afc0f28dd422d8361b77f7cef7085",
       "version_major": 2,
       "version_minor": 0
      },
      "text/plain": [
       "  0%|          | 0/6 [00:00<?, ?it/s]"
      ]
     },
     "metadata": {},
     "output_type": "display_data"
    },
    {
     "name": "stdout",
     "output_type": "stream",
     "text": [
      "('線上開戶-富邦證券', 232)\n",
      "('線上開戶-國泰證券', 315)\n",
      "('線上開戶-永豐金證券', 517)\n",
      "('線上開戶-元大證券', 172)\n",
      "('線上開戶-凱基證券', 188)\n",
      "('線上開戶-日盛證券', 55)\n",
      "('台股-富邦證券', 3125)\n",
      "('台股-國泰證券', 4887)\n",
      "('台股-永豐金證券', 2226)\n",
      "('台股-元大證券', 3690)\n",
      "('台股-凱基證券', 806)\n",
      "('台股-日盛證券', 137)\n",
      "('定期定額-富邦證券', 887)\n",
      "('定期定額-國泰證券', 2657)\n",
      "('定期定額-永豐金證券', 1042)\n",
      "('定期定額-元大證券', 1387)\n",
      "('定期定額-凱基證券', 393)\n",
      "('定期定額-日盛證券', 114)\n",
      "('海外股票-富邦證券', 2521)\n",
      "('海外股票-國泰證券', 2646)\n",
      "('海外股票-永豐金證券', 1626)\n",
      "('海外股票-元大證券', 1524)\n",
      "('海外股票-凱基證券', 753)\n",
      "('海外股票-日盛證券', 251)\n",
      "('基金-富邦證券', 1359)\n",
      "('基金-國泰證券', 1184)\n",
      "('基金-永豐金證券', 488)\n",
      "('基金-元大證券', 816)\n",
      "('基金-凱基證券', 512)\n",
      "('基金-日盛證券', 307)\n",
      "('信用-富邦證券', 300)\n",
      "('信用-國泰證券', 259)\n",
      "('信用-永豐金證券', 252)\n",
      "('信用-元大證券', 368)\n",
      "('信用-凱基證券', 180)\n",
      "('信用-日盛證券', 102)\n",
      "('期權-富邦證券', 1514)\n",
      "('期權-國泰證券', 1305)\n",
      "('期權-永豐金證券', 643)\n",
      "('期權-元大證券', 1237)\n",
      "('期權-凱基證券', 600)\n",
      "('期權-日盛證券', 98)\n",
      "('其他商品-富邦證券', 1893)\n",
      "('其他商品-國泰證券', 1747)\n",
      "('其他商品-永豐金證券', 696)\n",
      "('其他商品-元大證券', 1213)\n",
      "('其他商品-凱基證券', 595)\n",
      "('其他商品-日盛證券', 224)\n"
     ]
    }
   ],
   "source": [
    "#直接迴圈輸出每維度x每主題之數值\n",
    "\n",
    "DimDic = {}\n",
    "\n",
    "for i in tqdm(dms):\n",
    "    for k in tqdm(brands):\n",
    "        DimDic[i+\"-\"+k] = df[df.監測主題 == k][i].sum()\n",
    "\n",
    "for m in DimDic.items():\n",
    "    print(m)"
   ]
  },
  {
   "cell_type": "code",
   "execution_count": 21,
   "metadata": {},
   "outputs": [
    {
     "data": {
      "application/vnd.jupyter.widget-view+json": {
       "model_id": "c9f6444c2660494a868cfbff5b729e38",
       "version_major": 2,
       "version_minor": 0
      },
      "text/plain": [
       "  0%|          | 0/6 [00:00<?, ?it/s]"
      ]
     },
     "metadata": {},
     "output_type": "display_data"
    },
    {
     "name": "stdout",
     "output_type": "stream",
     "text": [
      "('富邦證券', 38.58024691358025)\n",
      "('國泰證券', 60.333333333333336)\n",
      "('永豐金證券', 27.48148148148148)\n",
      "('元大證券', 45.55555555555556)\n",
      "('凱基證券', 9.950617283950617)\n",
      "('日盛證券', 1.691358024691358)\n"
     ]
    }
   ],
   "source": [
    "DimDic = {}\n",
    "\n",
    "for i in tqdm(brands):\n",
    "    DimDic[i] = df[df.監測主題 == i][\"台股\"].sum() / 81\n",
    "    \n",
    "for m in DimDic.items():\n",
    "    print(m)"
   ]
  },
  {
   "cell_type": "code",
   "execution_count": 22,
   "metadata": {},
   "outputs": [
    {
     "data": {
      "application/vnd.jupyter.widget-view+json": {
       "model_id": "3b25f0eb764e49158e0923b4e172b30e",
       "version_major": 2,
       "version_minor": 0
      },
      "text/plain": [
       "  0%|          | 0/6 [00:00<?, ?it/s]"
      ]
     },
     "metadata": {},
     "output_type": "display_data"
    },
    {
     "name": "stdout",
     "output_type": "stream",
     "text": [
      "('富邦證券', 3125)\n",
      "('國泰證券', 4887)\n",
      "('永豐金證券', 2226)\n",
      "('元大證券', 3690)\n",
      "('凱基證券', 806)\n",
      "('日盛證券', 137)\n"
     ]
    }
   ],
   "source": [
    "DimDic = {}\n",
    "\n",
    "for i in tqdm(brands):\n",
    "    DimDic[i] = df[df.監測主題 == i][\"台股\"].sum()\n",
    "    \n",
    "for m in DimDic.items():\n",
    "    print(m)"
   ]
  },
  {
   "cell_type": "markdown",
   "metadata": {
    "tags": []
   },
   "source": [
    "#### 3、圖表測試區"
   ]
  },
  {
   "cell_type": "code",
   "execution_count": 15,
   "metadata": {
    "tags": []
   },
   "outputs": [
    {
     "name": "stdout",
     "output_type": "stream",
     "text": [
      "Requirement already satisfied: matplotlib in c:\\users\\mingyanlin\\anaconda3\\lib\\site-packages (3.4.3)\n",
      "Requirement already satisfied: kiwisolver>=1.0.1 in c:\\users\\mingyanlin\\anaconda3\\lib\\site-packages (from matplotlib) (1.3.1)\n",
      "Requirement already satisfied: pyparsing>=2.2.1 in c:\\users\\mingyanlin\\anaconda3\\lib\\site-packages (from matplotlib) (3.0.4)\n",
      "Requirement already satisfied: numpy>=1.16 in c:\\users\\mingyanlin\\anaconda3\\lib\\site-packages (from matplotlib) (1.20.3)\n",
      "Requirement already satisfied: pillow>=6.2.0 in c:\\users\\mingyanlin\\anaconda3\\lib\\site-packages (from matplotlib) (8.4.0)\n",
      "Requirement already satisfied: cycler>=0.10 in c:\\users\\mingyanlin\\anaconda3\\lib\\site-packages (from matplotlib) (0.10.0)\n",
      "Requirement already satisfied: python-dateutil>=2.7 in c:\\users\\mingyanlin\\anaconda3\\lib\\site-packages (from matplotlib) (2.8.2)\n",
      "Requirement already satisfied: six in c:\\users\\mingyanlin\\anaconda3\\lib\\site-packages (from cycler>=0.10->matplotlib) (1.16.0)\n"
     ]
    }
   ],
   "source": [
    "#安裝套件\n",
    "\n",
    "!pip install matplotlib\n",
    "import matplotlib.pyplot as plt"
   ]
  },
  {
   "cell_type": "code",
   "execution_count": 16,
   "metadata": {
    "collapsed": true,
    "jupyter": {
     "outputs_hidden": true
    },
    "tags": []
   },
   "outputs": [
    {
     "name": "stdout",
     "output_type": "stream",
     "text": [
      "Agency FB\n",
      "Agency FB\n",
      "Agency FB\n",
      "Agency FB\n",
      "Algerian\n",
      "Algerian\n",
      "Arial\n",
      "Arial\n",
      "Arial\n",
      "Arial\n",
      "Arial\n",
      "Arial\n",
      "Arial\n",
      "Arial\n",
      "Arial\n",
      "Arial\n",
      "Arial\n",
      "Arial\n",
      "Arial\n",
      "Arial\n",
      "Arial\n",
      "Arial\n",
      "Arial\n",
      "Arial\n",
      "Arial Rounded MT Bold\n",
      "Arial Rounded MT Bold\n",
      "Bahnschrift\n",
      "Bahnschrift\n",
      "Baskerville Old Face\n",
      "Baskerville Old Face\n",
      "Bauhaus 93\n",
      "Bauhaus 93\n",
      "Bell MT\n",
      "Bell MT\n",
      "Bell MT\n",
      "Bell MT\n",
      "Bell MT\n",
      "Bell MT\n",
      "Berlin Sans FB\n",
      "Berlin Sans FB\n",
      "Berlin Sans FB\n",
      "Berlin Sans FB\n",
      "Berlin Sans FB Demi\n",
      "Berlin Sans FB Demi\n",
      "Bernard MT Condensed\n",
      "Bernard MT Condensed\n",
      "Blackadder ITC\n",
      "Blackadder ITC\n",
      "Bodoni MT\n",
      "Bodoni MT\n",
      "Bodoni MT\n",
      "Bodoni MT\n",
      "Bodoni MT\n",
      "Bodoni MT\n",
      "Bodoni MT\n",
      "Bodoni MT\n",
      "Bodoni MT\n",
      "Bodoni MT\n",
      "Bodoni MT\n",
      "Bodoni MT\n",
      "Bodoni MT\n",
      "Bodoni MT\n",
      "Bodoni MT\n",
      "Bodoni MT\n",
      "Bodoni MT\n",
      "Bodoni MT\n",
      "Bodoni MT\n",
      "Bodoni MT\n",
      "Bodoni MT\n",
      "Bodoni MT\n",
      "Book Antiqua\n",
      "Book Antiqua\n",
      "Book Antiqua\n",
      "Book Antiqua\n",
      "Book Antiqua\n",
      "Book Antiqua\n",
      "Book Antiqua\n",
      "Book Antiqua\n",
      "Bookman Old Style\n",
      "Bookman Old Style\n",
      "Bookman Old Style\n",
      "Bookman Old Style\n",
      "Bookman Old Style\n",
      "Bookman Old Style\n",
      "Bookman Old Style\n",
      "Bookman Old Style\n",
      "Bookshelf Symbol 7\n",
      "Bradley Hand ITC\n",
      "Bradley Hand ITC\n",
      "Britannic Bold\n",
      "Britannic Bold\n",
      "Broadway\n",
      "Broadway\n",
      "Brush Script MT\n",
      "Brush Script MT\n",
      "Calibri\n",
      "Calibri\n",
      "Calibri\n",
      "Calibri\n",
      "Calibri\n",
      "Calibri\n",
      "Calibri\n",
      "Calibri\n",
      "Calibri\n",
      "Calibri\n",
      "Calibri\n",
      "Calibri\n",
      "Californian FB\n",
      "Californian FB\n",
      "Californian FB\n",
      "Californian FB\n",
      "Californian FB\n",
      "Californian FB\n",
      "Calisto MT\n",
      "Calisto MT\n",
      "Calisto MT\n",
      "Calisto MT\n",
      "Calisto MT\n",
      "Calisto MT\n",
      "Calisto MT\n",
      "Calisto MT\n",
      "Cambria\n",
      "Cambria\n",
      "Cambria\n",
      "Cambria\n",
      "Cambria\n",
      "Cambria\n",
      "Cambria\n",
      "Cambria\n",
      "Candara\n",
      "Candara\n",
      "Candara\n",
      "Candara\n",
      "Candara\n",
      "Candara\n",
      "Candara\n",
      "Candara\n",
      "Candara\n",
      "Candara\n",
      "Candara\n",
      "Candara\n",
      "Castellar\n",
      "Castellar\n",
      "Centaur\n",
      "Centaur\n",
      "Century\n",
      "Century\n",
      "Century Gothic\n",
      "Century Gothic\n",
      "Century Gothic\n",
      "Century Gothic\n",
      "Century Gothic\n",
      "Century Gothic\n",
      "Century Gothic\n",
      "Century Gothic\n",
      "Century Schoolbook\n",
      "Century Schoolbook\n",
      "Century Schoolbook\n",
      "Century Schoolbook\n",
      "Century Schoolbook\n",
      "Century Schoolbook\n",
      "Century Schoolbook\n",
      "Century Schoolbook\n",
      "Chiller\n",
      "Chiller\n",
      "Colonna MT\n",
      "Colonna MT\n",
      "Comic Sans MS\n",
      "Comic Sans MS\n",
      "Comic Sans MS\n",
      "Comic Sans MS\n",
      "Comic Sans MS\n",
      "Comic Sans MS\n",
      "Comic Sans MS\n",
      "Comic Sans MS\n",
      "Consolas\n",
      "Consolas\n",
      "Consolas\n",
      "Consolas\n",
      "Consolas\n",
      "Consolas\n",
      "Consolas\n",
      "Consolas\n",
      "Constantia\n",
      "Constantia\n",
      "Constantia\n",
      "Constantia\n",
      "Constantia\n",
      "Constantia\n",
      "Constantia\n",
      "Constantia\n",
      "Cooper Black\n",
      "Cooper Black\n",
      "Copperplate Gothic Bold\n",
      "Copperplate Gothic Bold\n",
      "Copperplate Gothic Light\n",
      "Copperplate Gothic Light\n",
      "Corbel\n",
      "Corbel\n",
      "Corbel\n",
      "Corbel\n",
      "Corbel\n",
      "Corbel\n",
      "Corbel\n",
      "Corbel\n",
      "Corbel\n",
      "Corbel\n",
      "Corbel\n",
      "Corbel\n",
      "Courier New\n",
      "Courier New\n",
      "Courier New\n",
      "Courier New\n",
      "Courier New\n",
      "Courier New\n",
      "Courier New\n",
      "Courier New\n",
      "Curlz MT\n",
      "Curlz MT\n",
      "DFKai-SB\n",
      "DFKai-SB\n",
      "DejaVu Sans\n",
      "DejaVu Sans\n",
      "DejaVu Sans\n",
      "DejaVu Sans\n",
      "DejaVu Sans Display\n",
      "DejaVu Sans Mono\n",
      "DejaVu Sans Mono\n",
      "DejaVu Sans Mono\n",
      "DejaVu Sans Mono\n",
      "DejaVu Serif\n",
      "DejaVu Serif\n",
      "DejaVu Serif\n",
      "DejaVu Serif\n",
      "DejaVu Serif Display\n",
      "Dubai\n",
      "Dubai\n",
      "Dubai\n",
      "Dubai\n",
      "Dubai\n",
      "Dubai\n",
      "Dubai\n",
      "Dubai\n",
      "Ebrima\n",
      "Ebrima\n",
      "Ebrima\n",
      "Ebrima\n",
      "Edwardian Script ITC\n",
      "Edwardian Script ITC\n",
      "Elephant\n",
      "Elephant\n",
      "Elephant\n",
      "Elephant\n",
      "Engravers MT\n",
      "Engravers MT\n",
      "Eras Bold ITC\n",
      "Eras Bold ITC\n",
      "Eras Demi ITC\n",
      "Eras Demi ITC\n",
      "Eras Light ITC\n",
      "Eras Light ITC\n",
      "Eras Medium ITC\n",
      "Eras Medium ITC\n",
      "Felix Titling\n",
      "Felix Titling\n",
      "Footlight MT Light\n",
      "Footlight MT Light\n",
      "Forte\n",
      "Forte\n",
      "Franklin Gothic Book\n",
      "Franklin Gothic Book\n",
      "Franklin Gothic Book\n",
      "Franklin Gothic Book\n",
      "Franklin Gothic Demi\n",
      "Franklin Gothic Demi\n",
      "Franklin Gothic Demi\n",
      "Franklin Gothic Demi\n",
      "Franklin Gothic Demi Cond\n",
      "Franklin Gothic Demi Cond\n",
      "Franklin Gothic Heavy\n",
      "Franklin Gothic Heavy\n",
      "Franklin Gothic Heavy\n",
      "Franklin Gothic Heavy\n",
      "Franklin Gothic Medium\n",
      "Franklin Gothic Medium\n",
      "Franklin Gothic Medium\n",
      "Franklin Gothic Medium\n",
      "Franklin Gothic Medium Cond\n",
      "Franklin Gothic Medium Cond\n",
      "Freestyle Script\n",
      "Freestyle Script\n",
      "French Script MT\n",
      "French Script MT\n",
      "Gabriola\n",
      "Gabriola\n",
      "Gadugi\n",
      "Gadugi\n",
      "Gadugi\n",
      "Gadugi\n",
      "Garamond\n",
      "Garamond\n",
      "Garamond\n",
      "Garamond\n",
      "Garamond\n",
      "Garamond\n",
      "Georgia\n",
      "Georgia\n",
      "Georgia\n",
      "Georgia\n",
      "Georgia\n",
      "Georgia\n",
      "Georgia\n",
      "Georgia\n",
      "Gigi\n",
      "Gigi\n",
      "Gill Sans MT\n",
      "Gill Sans MT\n",
      "Gill Sans MT\n",
      "Gill Sans MT\n",
      "Gill Sans MT\n",
      "Gill Sans MT\n",
      "Gill Sans MT\n",
      "Gill Sans MT\n",
      "Gill Sans MT Condensed\n",
      "Gill Sans MT Condensed\n",
      "Gill Sans MT Ext Condensed Bold\n",
      "Gill Sans MT Ext Condensed Bold\n",
      "Gill Sans Ultra Bold\n",
      "Gill Sans Ultra Bold\n",
      "Gill Sans Ultra Bold Condensed\n",
      "Gill Sans Ultra Bold Condensed\n",
      "Gloucester MT Extra Condensed\n",
      "Gloucester MT Extra Condensed\n",
      "Goudy Old Style\n",
      "Goudy Old Style\n",
      "Goudy Old Style\n",
      "Goudy Old Style\n",
      "Goudy Old Style\n",
      "Goudy Old Style\n",
      "Goudy Stout\n",
      "Goudy Stout\n",
      "HP Simplified\n",
      "HP Simplified\n",
      "HP Simplified\n",
      "HP Simplified\n",
      "HP Simplified\n",
      "HP Simplified\n",
      "HP Simplified\n",
      "HP Simplified\n",
      "HP Simplified\n",
      "HP Simplified\n",
      "HP Simplified\n",
      "HP Simplified\n",
      "HP Simplified Hans\n",
      "HP Simplified Hans\n",
      "HP Simplified Hans\n",
      "HP Simplified Hans\n",
      "HP Simplified Jpan\n",
      "HP Simplified Jpan\n",
      "HP Simplified Jpan\n",
      "HP Simplified Jpan\n",
      "Haettenschweiler\n",
      "Haettenschweiler\n",
      "Harlow Solid Italic\n",
      "Harlow Solid Italic\n",
      "Harrington\n",
      "Harrington\n",
      "High Tower Text\n",
      "High Tower Text\n",
      "High Tower Text\n",
      "High Tower Text\n",
      "HoloLens MDL2 Assets\n",
      "HoloLens MDL2 Assets\n",
      "Impact\n",
      "Impact\n",
      "Imprint MT Shadow\n",
      "Imprint MT Shadow\n",
      "Informal Roman\n",
      "Informal Roman\n",
      "Ink Free\n",
      "Ink Free\n",
      "Javanese Text\n",
      "Javanese Text\n",
      "Jokerman\n",
      "Jokerman\n",
      "Juice ITC\n",
      "Juice ITC\n",
      "Kristen ITC\n",
      "Kristen ITC\n",
      "Kunstler Script\n",
      "Kunstler Script\n",
      "Leelawadee UI\n",
      "Leelawadee UI\n",
      "Leelawadee UI\n",
      "Leelawadee UI\n",
      "Leelawadee UI\n",
      "Leelawadee UI\n",
      "Lucida Bright\n",
      "Lucida Bright\n",
      "Lucida Bright\n",
      "Lucida Bright\n",
      "Lucida Bright\n",
      "Lucida Bright\n",
      "Lucida Bright\n",
      "Lucida Bright\n",
      "Lucida Calligraphy\n",
      "Lucida Calligraphy\n",
      "Lucida Console\n",
      "Lucida Console\n",
      "Lucida Fax\n",
      "Lucida Fax\n",
      "Lucida Fax\n",
      "Lucida Fax\n",
      "Lucida Fax\n",
      "Lucida Fax\n",
      "Lucida Fax\n",
      "Lucida Fax\n",
      "Lucida Handwriting\n",
      "Lucida Handwriting\n",
      "Lucida Sans\n",
      "Lucida Sans\n",
      "Lucida Sans\n",
      "Lucida Sans\n",
      "Lucida Sans\n",
      "Lucida Sans\n",
      "Lucida Sans\n",
      "Lucida Sans\n",
      "Lucida Sans Typewriter\n",
      "Lucida Sans Typewriter\n",
      "Lucida Sans Typewriter\n",
      "Lucida Sans Typewriter\n",
      "Lucida Sans Typewriter\n",
      "Lucida Sans Typewriter\n",
      "Lucida Sans Typewriter\n",
      "Lucida Sans Typewriter\n",
      "Lucida Sans Unicode\n",
      "Lucida Sans Unicode\n",
      "MS Gothic\n",
      "MS Gothic\n",
      "MS Outlook\n",
      "MS Reference Sans Serif\n",
      "MS Reference Specialty\n",
      "MT Extra\n",
      "MT Extra\n",
      "MV Boli\n",
      "MV Boli\n",
      "Magneto\n",
      "Magneto\n",
      "Maiandra GD\n",
      "Maiandra GD\n",
      "Malgun Gothic\n",
      "Malgun Gothic\n",
      "Malgun Gothic\n",
      "Malgun Gothic\n",
      "Malgun Gothic\n",
      "Malgun Gothic\n",
      "Marlett\n",
      "Matura MT Script Capitals\n",
      "Matura MT Script Capitals\n",
      "Microsoft Himalaya\n",
      "Microsoft Himalaya\n",
      "Microsoft JhengHei\n",
      "Microsoft JhengHei\n",
      "Microsoft JhengHei\n",
      "Microsoft JhengHei\n",
      "Microsoft JhengHei\n",
      "Microsoft JhengHei\n",
      "Microsoft New Tai Lue\n",
      "Microsoft New Tai Lue\n",
      "Microsoft New Tai Lue\n",
      "Microsoft New Tai Lue\n",
      "Microsoft PhagsPa\n",
      "Microsoft PhagsPa\n",
      "Microsoft PhagsPa\n",
      "Microsoft PhagsPa\n",
      "Microsoft Sans Serif\n",
      "Microsoft Sans Serif\n",
      "Microsoft Tai Le\n",
      "Microsoft Tai Le\n",
      "Microsoft Tai Le\n",
      "Microsoft Tai Le\n",
      "Microsoft YaHei\n",
      "Microsoft YaHei\n",
      "Microsoft YaHei\n",
      "Microsoft YaHei\n",
      "Microsoft YaHei\n",
      "Microsoft YaHei\n",
      "Microsoft Yi Baiti\n",
      "Microsoft Yi Baiti\n",
      "MingLiU\n",
      "MingLiU\n",
      "MingLiU-ExtB\n",
      "MingLiU-ExtB\n",
      "Mistral\n",
      "Mistral\n",
      "Modern No. 20\n",
      "Modern No. 20\n",
      "Mongolian Baiti\n",
      "Mongolian Baiti\n",
      "Monotype Corsiva\n",
      "Monotype Corsiva\n",
      "Myanmar Text\n",
      "Myanmar Text\n",
      "Myanmar Text\n",
      "Myanmar Text\n",
      "Niagara Engraved\n",
      "Niagara Engraved\n",
      "Niagara Solid\n",
      "Niagara Solid\n",
      "Nirmala UI\n",
      "Nirmala UI\n",
      "Nirmala UI\n",
      "Nirmala UI\n",
      "Nirmala UI\n",
      "Nirmala UI\n",
      "OCR A Extended\n",
      "OCR A Extended\n",
      "Old English Text MT\n",
      "Old English Text MT\n",
      "Onyx\n",
      "Onyx\n",
      "Palace Script MT\n",
      "Palace Script MT\n",
      "Palatino Linotype\n",
      "Palatino Linotype\n",
      "Palatino Linotype\n",
      "Palatino Linotype\n",
      "Palatino Linotype\n",
      "Palatino Linotype\n",
      "Palatino Linotype\n",
      "Palatino Linotype\n",
      "Papyrus\n",
      "Papyrus\n",
      "Parchment\n",
      "Parchment\n",
      "Perpetua\n",
      "Perpetua\n",
      "Perpetua\n",
      "Perpetua\n",
      "Perpetua\n",
      "Perpetua\n",
      "Perpetua\n",
      "Perpetua\n",
      "Perpetua Titling MT\n",
      "Perpetua Titling MT\n",
      "Perpetua Titling MT\n",
      "Perpetua Titling MT\n",
      "Playbill\n",
      "Playbill\n",
      "Poor Richard\n",
      "Poor Richard\n",
      "Pristina\n",
      "Pristina\n",
      "Rage Italic\n",
      "Rage Italic\n",
      "Ravie\n",
      "Ravie\n",
      "Rockwell\n",
      "Rockwell\n",
      "Rockwell\n",
      "Rockwell\n",
      "Rockwell\n",
      "Rockwell\n",
      "Rockwell\n",
      "Rockwell\n",
      "Rockwell Condensed\n",
      "Rockwell Condensed\n",
      "Rockwell Condensed\n",
      "Rockwell Condensed\n",
      "Rockwell Extra Bold\n",
      "Rockwell Extra Bold\n",
      "STIXGeneral\n",
      "STIXGeneral\n",
      "STIXGeneral\n",
      "STIXGeneral\n",
      "STIXNonUnicode\n",
      "STIXNonUnicode\n",
      "STIXNonUnicode\n",
      "STIXNonUnicode\n",
      "STIXSizeFiveSym\n",
      "STIXSizeFourSym\n",
      "STIXSizeFourSym\n",
      "STIXSizeOneSym\n",
      "STIXSizeOneSym\n",
      "STIXSizeThreeSym\n",
      "STIXSizeThreeSym\n",
      "STIXSizeTwoSym\n",
      "STIXSizeTwoSym\n",
      "Script MT Bold\n",
      "Script MT Bold\n",
      "Segoe Fluent Icons\n",
      "Segoe Fluent Icons\n",
      "Segoe MDL2 Assets\n",
      "Segoe MDL2 Assets\n",
      "Segoe Print\n",
      "Segoe Print\n",
      "Segoe Print\n",
      "Segoe Print\n",
      "Segoe Script\n",
      "Segoe Script\n",
      "Segoe Script\n",
      "Segoe Script\n",
      "Segoe UI\n",
      "Segoe UI\n",
      "Segoe UI\n",
      "Segoe UI\n",
      "Segoe UI\n",
      "Segoe UI\n",
      "Segoe UI\n",
      "Segoe UI\n",
      "Segoe UI\n",
      "Segoe UI\n",
      "Segoe UI\n",
      "Segoe UI\n",
      "Segoe UI\n",
      "Segoe UI\n",
      "Segoe UI\n",
      "Segoe UI\n",
      "Segoe UI\n",
      "Segoe UI\n",
      "Segoe UI\n",
      "Segoe UI\n",
      "Segoe UI\n",
      "Segoe UI\n",
      "Segoe UI\n",
      "Segoe UI\n",
      "Segoe UI Emoji\n",
      "Segoe UI Emoji\n",
      "Segoe UI Historic\n",
      "Segoe UI Historic\n",
      "Segoe UI Symbol\n",
      "Segoe UI Symbol\n",
      "Segoe UI Variable\n",
      "Segoe UI Variable\n",
      "Showcard Gothic\n",
      "Showcard Gothic\n",
      "SimSun\n",
      "SimSun\n",
      "SimSun-ExtB\n",
      "SimSun-ExtB\n",
      "Sitka\n",
      "Sitka\n",
      "Sitka\n",
      "Sitka\n",
      "Snap ITC\n",
      "Snap ITC\n",
      "Stencil\n",
      "Stencil\n",
      "Sylfaen\n",
      "Sylfaen\n",
      "Symbol\n",
      "Symbol\n",
      "Tahoma\n",
      "Tahoma\n",
      "Tahoma\n",
      "Tahoma\n",
      "Tempus Sans ITC\n",
      "Tempus Sans ITC\n",
      "Times New Roman\n",
      "Times New Roman\n",
      "Times New Roman\n",
      "Times New Roman\n",
      "Times New Roman\n",
      "Times New Roman\n",
      "Times New Roman\n",
      "Times New Roman\n",
      "Trebuchet MS\n",
      "Trebuchet MS\n",
      "Trebuchet MS\n",
      "Trebuchet MS\n",
      "Trebuchet MS\n",
      "Trebuchet MS\n",
      "Trebuchet MS\n",
      "Trebuchet MS\n",
      "Tw Cen MT\n",
      "Tw Cen MT\n",
      "Tw Cen MT\n",
      "Tw Cen MT\n",
      "Tw Cen MT\n",
      "Tw Cen MT\n",
      "Tw Cen MT\n",
      "Tw Cen MT\n",
      "Tw Cen MT Condensed\n",
      "Tw Cen MT Condensed\n",
      "Tw Cen MT Condensed\n",
      "Tw Cen MT Condensed\n",
      "Tw Cen MT Condensed Extra Bold\n",
      "Tw Cen MT Condensed Extra Bold\n",
      "Verdana\n",
      "Verdana\n",
      "Verdana\n",
      "Verdana\n",
      "Verdana\n",
      "Verdana\n",
      "Verdana\n",
      "Verdana\n",
      "Viner Hand ITC\n",
      "Viner Hand ITC\n",
      "Vivaldi\n",
      "Vivaldi\n",
      "Vladimir Script\n",
      "Vladimir Script\n",
      "Webdings\n",
      "Webdings\n",
      "Wide Latin\n",
      "Wide Latin\n",
      "Wingdings\n",
      "Wingdings\n",
      "Wingdings 2\n",
      "Wingdings 2\n",
      "Wingdings 3\n",
      "Wingdings 3\n",
      "Yu Gothic\n",
      "Yu Gothic\n",
      "Yu Gothic\n",
      "Yu Gothic\n",
      "Yu Gothic\n",
      "Yu Gothic\n",
      "Yu Gothic\n",
      "Yu Gothic\n",
      "cmb10\n",
      "cmex10\n",
      "cmmi10\n",
      "cmr10\n",
      "cmss10\n",
      "cmsy10\n",
      "cmtt10\n"
     ]
    }
   ],
   "source": [
    "#查看現有安裝字體\n",
    "\n",
    "import matplotlib.font_manager\n",
    " \n",
    "a = sorted([f.name for f in matplotlib.font_manager.fontManager.ttflist])\n",
    " \n",
    "for i in a:\n",
    "    print(i)"
   ]
  },
  {
   "cell_type": "code",
   "execution_count": 17,
   "metadata": {},
   "outputs": [],
   "source": [
    "#指定其中一個字型做繪製\n",
    "\n",
    "plt.rcParams['font.sans-serif'] = ['Microsoft YaHei']"
   ]
  },
  {
   "cell_type": "code",
   "execution_count": null,
   "metadata": {},
   "outputs": [],
   "source": [
    "#如果繪製直方圖之前要先做一些條件篩選，可用此段\n",
    "\n",
    "ds = (df[\"來源\"] == \"新聞\") & (df[\"主文/回文\"] != \"主文\")\n",
    "\n",
    "##確定條件篩選後之資料正確與否\n",
    "\n",
    "ds = df[ds]\n",
    "ds.head()"
   ]
  },
  {
   "cell_type": "code",
   "execution_count": 20,
   "metadata": {},
   "outputs": [
    {
     "data": {
      "application/vnd.jupyter.widget-view+json": {
       "model_id": "c1b9fcd0f2ab46979c19de06987901b2",
       "version_major": 2,
       "version_minor": 0
      },
      "text/plain": [
       "  0%|          | 0/6 [00:00<?, ?it/s]"
      ]
     },
     "metadata": {},
     "output_type": "display_data"
    },
    {
     "name": "stdout",
     "output_type": "stream",
     "text": [
      "('富邦證券', 3125)\n",
      "('國泰證券', 4887)\n",
      "('永豐金證券', 2226)\n",
      "('元大證券', 3690)\n",
      "('凱基證券', 806)\n",
      "('日盛證券', 137)\n"
     ]
    },
    {
     "data": {
      "image/png": "[encoded data removed]",
      "text/plain": [
       "<Figure size 432x288 with 1 Axes>"
      ]
     },
     "metadata": {
      "needs_background": "light"
     },
     "output_type": "display_data"
    }
   ],
   "source": [
    "#繪製維度聲量直方圖\n",
    "\n",
    "DimDic = {}\n",
    "\n",
    "for i in tqdm(brands):\n",
    "    DimDic[i] = df[df.監測主題 == i][\"台股\"].sum()\n",
    "    \n",
    "for m in DimDic.items():\n",
    "    print(m)\n",
    "    \n",
    "xx = list(DimDic.keys())\n",
    "yy = list(DimDic.values())\n",
    "\n",
    "plt1 = plt.bar(xx, yy, alpha=1, color='#f2cece')\n",
    "#alpha是設定透明度0~1；color可以指定顏色進去\n",
    "\n",
    "plt.title(\"[ \"+\"台股\"+\" ]\"+\" 維度 x 各券商聲量直方圖\")\n",
    "plt.xlabel(\"券商品牌\")\n",
    "plt.ylabel(\"聲量則數\")\n",
    "plt.grid(axis='y', alpha=0.75)\n",
    "\n",
    "for x,y in enumerate(yy):\n",
    "    plt.text(x,y,'%s'%y,ha='center')\n",
    "\n",
    "plt.show()"
   ]
  },
  {
   "cell_type": "code",
   "execution_count": null,
   "metadata": {},
   "outputs": [],
   "source": []
  }
 ],
 "metadata": {
  "kernelspec": {
   "display_name": "Python 3 (ipykernel)",
   "language": "python",
   "name": "python3"
  },
  "language_info": {
   "codemirror_mode": {
    "name": "ipython",
    "version": 3
   },
   "file_extension": ".py",
   "mimetype": "text/x-python",
   "name": "python",
   "nbconvert_exporter": "python",
   "pygments_lexer": "ipython3",
   "version": "3.9.7"
  }
 },
 "nbformat": 4,
 "nbformat_minor": 4
}
