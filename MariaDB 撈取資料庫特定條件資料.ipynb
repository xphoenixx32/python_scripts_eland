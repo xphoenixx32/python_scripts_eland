{
 "cells": [
  {
   "cell_type": "markdown",
   "metadata": {},
   "source": [
    "# 撈取資料庫特定條件資料\n",
    "\n",
    "用途：統計每個頻道標籤（包含屬性標籤、內容標籤）的聲量數\n",
    "\n",
    "## 操作流程\n",
    "\n",
    "1. 安裝套件\n",
    "\n",
    "    `pip install pyodbc`：讓 Python 可以和資料庫做連線\n",
    "\n",
    "    `pip install python-dateutil`：比內建好用的時間運算套件\n",
    "    \n",
    "    `pip install pandas`：從輸入 sql 檔案、資料操作、到最後輸出 excel 檔案都需要用到的資料處理套件\n",
    "2. 連線爬文資料庫並進行登入\n",
    "3. 給定資料庫名稱（和網站 ID，非必要）與查詢起迄時間\n",
    "4. 回傳所有標籤在每個月份的資料筆數 (dataframe)"
   ]
  },
  {
   "cell_type": "code",
   "execution_count": null,
   "metadata": {},
   "outputs": [],
   "source": [
    "import pyodbc\n",
    "import pandas as pd\n",
    "from datetime import datetime as dt\n",
    "from dateutil.relativedelta import relativedelta\n",
    "from tqdm.notebook import trange, tqdm #可以出現進度條的模組"
   ]
  },
  {
   "cell_type": "markdown",
   "metadata": {},
   "source": [
    "# 連線資料庫"
   ]
  },
  {
   "cell_type": "code",
   "execution_count": null,
   "metadata": {},
   "outputs": [],
   "source": [
    "# 登入資訊\n",
    "user = 'mingyanxxx' #機敏記得更改\n",
    "password = 'giraffexxxxxxxxxxxxxx' #機敏記得更改\n",
    "\n",
    "# 以 MariaDB 的驅動程式串 DB 資料庫\n",
    "conn = pyodbc.connect(\n",
    "    f'DRIVER={{MariaDB ODBC 3.1 Driver}};User={user};Password={password};Server=dc-data11.eland.com.tw;Port=3306;'\n",
    ")"
   ]
  },
  {
   "cell_type": "markdown",
   "metadata": {},
   "source": [
    "# 統計標籤聲量"
   ]
  },
  {
   "cell_type": "markdown",
   "metadata": {},
   "source": [
    "### 函數一：統計整個資料庫當中的所有網站、頻道"
   ]
  },
  {
   "cell_type": "code",
   "execution_count": null,
   "metadata": {},
   "outputs": [],
   "source": [
    "def get_tag_data_by_db(db_name, time_1, time_2):\n",
    "    df = pd.DataFrame()\n",
    "    start_time = time_1\n",
    "    while True:\n",
    "        if start_time < time_2:\n",
    "            year_month = dt.strftime(dt.strptime(start_time, '%Y-%m-%d'), '%Y/%m')  # 為了輸出方便\n",
    "            end_time = dt.strftime(dt.strptime(start_time, '%Y-%m-%d') + relativedelta(months=1), '%Y-%m-%d')  # 為了逐月計算\n",
    "\n",
    "            sql_script = \"\"\"\n",
    "                            SELECT tagname_ch.name, SUM(a.count_v) FROM wh_query.channel_tag_mapping AS tagname\n",
    "                            LEFT JOIN (\n",
    "                                SELECT volume.s_area_id AS s_area_id, COUNT(volume.id) AS count_v FROM %s.ts_page_content AS volume\n",
    "                                WHERE volume.post_time >= '%s'\n",
    "                                AND volume.post_time < '%s'\n",
    "                                GROUP BY s_area_id\n",
    "                                ) AS a\n",
    "                            ON tagname.s_area_id COLLATE UTF8MB4_GENERAL_CI = a.s_area_id\n",
    "                            LEFT JOIN wh_query.channel_tag AS tagname_ch ON tagname.tag_id = tagname_ch.id\n",
    "                            GROUP BY tagname_ch.name;\n",
    "                        \"\"\" % (db_name, start_time, end_time)\n",
    "            temp_query = pd.read_sql(sql_script, conn)  # 執行上方 SQL 指令並存起來\n",
    "            temp_query['月份'] = dt.strftime(dt.strptime(start_time, '%Y-%m-%d'), '%Y/%m')  # 加入月份欄位\n",
    "            df = pd.concat([df, temp_query], ignore_index=True)  # 將這次的結果與先前的結果合併起來\n",
    "            print(f'資料庫 {db_name} 在 {year_month} 的資料已運算完成。')  # 顯示目前執行進度\n",
    "            start_time = end_time  # 將開始時間取代為下一個月\n",
    "        else:\n",
    "            break\n",
    "    df.columns = ['標籤名稱', '聲量數', '月份']\n",
    "    return df"
   ]
  },
  {
   "cell_type": "markdown",
   "metadata": {},
   "source": [
    "### 函數二：僅統計某特定網站"
   ]
  },
  {
   "cell_type": "code",
   "execution_count": null,
   "metadata": {},
   "outputs": [],
   "source": [
    "def get_tag_data_by_site(db_name, s_id, time_1, time_2):\n",
    "    df = pd.DataFrame()\n",
    "    start_time = time_1\n",
    "    while True:\n",
    "        if start_time < time_2:\n",
    "            year_month = dt.strftime(dt.strptime(start_time, '%Y-%m-%d'), '%Y/%m')  # 為了輸出方便\n",
    "            end_time = dt.strftime(dt.strptime(start_time, '%Y-%m-%d') + relativedelta(months=1), '%Y-%m-%d')  # 為了逐月計算\n",
    "\n",
    "            sql_script = \"\"\"\n",
    "                            SELECT tagname_ch.name, SUM(a.count_v) FROM wh_query.channel_tag_mapping AS tagname\n",
    "                            LEFT JOIN (\n",
    "                                SELECT volume.s_area_id AS s_area_id, COUNT(volume.id) AS count_v FROM %s.ts_page_content AS volume\n",
    "                                WHERE volume.post_time >= '%s'\n",
    "                                AND volume.post_time < '%s'\n",
    "                                AND s_id = '%s'\n",
    "                                GROUP BY s_area_id\n",
    "                                ) AS a\n",
    "                            ON tagname.s_area_id COLLATE UTF8MB4_GENERAL_CI = a.s_area_id\n",
    "                            LEFT JOIN wh_query.channel_tag AS tagname_ch ON tagname.tag_id = tagname_ch.id\n",
    "                            GROUP BY tagname_ch.name;\n",
    "                        \"\"\" % (db_name, start_time, end_time, s_id)\n",
    "            temp_query = pd.read_sql(sql_script, conn)  # 執行上方 SQL 指令並存起來\n",
    "            temp_query['月份'] = dt.strftime(dt.strptime(start_time, '%Y-%m-%d'), '%Y/%m')  # 加入月份欄位\n",
    "            df = pd.concat([df, temp_query], ignore_index=True)  # 將這次的結果與先前的結果合併起來\n",
    "            print(f'資料庫 {db_name} 的 {s_id} 網站在 {year_month} 的資料已運算完成。')  # 顯示目前執行進度\n",
    "            start_time = end_time  # 將開始時間取代為下一個月\n",
    "        else:\n",
    "            break\n",
    "    df.columns = ['標籤名稱', '聲量數', '月份']\n",
    "    return df"
   ]
  },
  {
   "cell_type": "markdown",
   "metadata": {},
   "source": [
    "### 路徑準備、迴圈撰寫"
   ]
  },
  {
   "cell_type": "code",
   "execution_count": null,
   "metadata": {},
   "outputs": [],
   "source": [
    "demo_df.to_excel(f'C:/Users/mingyanlin/OneDrive - 意藍資訊股份有限公司/文件/01. Task/{db_name} 標籤統計202201.xlsx')"
   ]
  },
  {
   "cell_type": "code",
   "execution_count": null,
   "metadata": {},
   "outputs": [],
   "source": [
    "dbname = \"wh_fb\twh_fb_ex\twh_fb_ex_02\twh_fb_ex_03\twh_fb_ex_04\twh_fb_ex_05\twh_fb_ex_06\twh_fb_group\twh_fb_private_group\twh_fb_kol\twh_instagram\twh_backpackers\twh_bbs_01\twh_bbs_02\twh_forum_01\twh_forum_02\twh_forum_other\twh_blog_01\twh_comment_01\twh_comment_app\twh_comment_podcast\twh_plurk\twh_tiktok\twh_twitter\twh_youtube\"\n",
    "dbname = dbname.split(\"\\t\")\n",
    "print(dbname)"
   ]
  },
  {
   "cell_type": "code",
   "execution_count": null,
   "metadata": {},
   "outputs": [],
   "source": [
    "path = \"C:/Users/mingyanlin/OneDrive - 意藍資訊股份有限公司/文件/01. Task/01. eLand/00. Data Related/頻道標籤統計/\""
   ]
  },
  {
   "cell_type": "code",
   "execution_count": null,
   "metadata": {
    "scrolled": true
   },
   "outputs": [],
   "source": [
    "for i in tqdm(dbname):\n",
    "    demo_df = get_tag_data_by_db(i, '2022-02-01', '2022-03-01')\n",
    "    newpath = path + str(i) + '標籤統計202202' + '.xlsx'\n",
    "    demo_df.to_excel(newpath, index=False)"
   ]
  }
 ],
 "metadata": {
  "kernelspec": {
   "display_name": "Python 3 (ipykernel)",
   "language": "python",
   "name": "python3"
  },
  "language_info": {
   "codemirror_mode": {
    "name": "ipython",
    "version": 3
   },
   "file_extension": ".py",
   "mimetype": "text/x-python",
   "name": "python",
   "nbconvert_exporter": "python",
   "pygments_lexer": "ipython3",
   "version": "3.9.7"
  },
  "vscode": {
   "interpreter": {
    "hash": "cd72a35308b11d6dd066764e4926e7f2086944854315831556b2183caabd873c"
   }
  }
 },
 "nbformat": 4,
 "nbformat_minor": 2
}
